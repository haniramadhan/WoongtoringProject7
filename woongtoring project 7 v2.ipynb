{
 "cells": [
  {
   "cell_type": "code",
   "execution_count": 153,
   "metadata": {},
   "outputs": [],
   "source": [
    "import pyspark\n",
    "import timeit\n",
    "from pyspark.sql import SparkSession\n",
    "from pyspark.sql.types import *\n",
    "from pyspark.sql import Row\n",
    "import pyspark.sql.functions as F\n",
    "import numpy as np\n",
    "import matplotlib.pyplot as plt"
   ]
  },
  {
   "cell_type": "markdown",
   "metadata": {},
   "source": [
    "### Data loading from filesystem"
   ]
  },
  {
   "cell_type": "code",
   "execution_count": 2,
   "metadata": {},
   "outputs": [],
   "source": [
    "spark = SparkSession \\\n",
    "    .builder \\\n",
    "    .appName(\"Python Spark SQL basic example\") \\\n",
    "    .getOrCreate()"
   ]
  },
  {
   "cell_type": "code",
   "execution_count": 3,
   "metadata": {},
   "outputs": [],
   "source": [
    "prescription_schema = StructType([StructField('기준년도', IntegerType(),True),\n",
    "                                 StructField('가입자일련번호', StringType(),True),\n",
    "                                 StructField('처방내역일련번호', StringType(),True),\n",
    "                                 StructField('일련번호', IntegerType(),True),\n",
    "                                 StructField('성별코드', IntegerType(),True),\n",
    "                                 StructField('연령대코드', IntegerType(),True),\n",
    "                                 StructField('시도코드', StringType(),True),\n",
    "                                 StructField('요양개시일자', DateType(),True),\n",
    "                                 StructField('약품일반성분명코드', StringType(),True),\n",
    "                                 StructField('1회투약량', FloatType(),True),\n",
    "                                 StructField('1일투약량', FloatType(),True),\n",
    "                                 StructField('총투여일수', FloatType(),True),\n",
    "                                 StructField('단가', FloatType(),True),\n",
    "                                 StructField('금액', FloatType(),True),\n",
    "                                 StructField('데이터공개일자', IntegerType(),True)])"
   ]
  },
  {
   "cell_type": "code",
   "execution_count": 4,
   "metadata": {},
   "outputs": [],
   "source": [
    "csv_df= spark.read.csv(\"*.CSV\",  \n",
    "                         header=True, \n",
    "                         encoding=\"euc_kr\",\n",
    "                        dateFormat=\"yyyyMMdd\",\n",
    "                        schema=prescription_schema)"
   ]
  },
  {
   "cell_type": "code",
   "execution_count": 5,
   "metadata": {
    "scrolled": true
   },
   "outputs": [
    {
     "name": "stdout",
     "output_type": "stream",
     "text": [
      "root\n",
      " |-- 기준년도: integer (nullable = true)\n",
      " |-- 가입자일련번호: string (nullable = true)\n",
      " |-- 처방내역일련번호: string (nullable = true)\n",
      " |-- 일련번호: integer (nullable = true)\n",
      " |-- 성별코드: integer (nullable = true)\n",
      " |-- 연령대코드: integer (nullable = true)\n",
      " |-- 시도코드: string (nullable = true)\n",
      " |-- 요양개시일자: date (nullable = true)\n",
      " |-- 약품일반성분명코드: string (nullable = true)\n",
      " |-- 1회투약량: float (nullable = true)\n",
      " |-- 1일투약량: float (nullable = true)\n",
      " |-- 총투여일수: float (nullable = true)\n",
      " |-- 단가: float (nullable = true)\n",
      " |-- 금액: float (nullable = true)\n",
      " |-- 데이터공개일자: integer (nullable = true)\n",
      "\n"
     ]
    }
   ],
   "source": [
    "csv_df.printSchema()"
   ]
  },
  {
   "cell_type": "code",
   "execution_count": 6,
   "metadata": {},
   "outputs": [
    {
     "data": {
      "text/plain": [
       "79592489"
      ]
     },
     "execution_count": 6,
     "metadata": {},
     "output_type": "execute_result"
    }
   ],
   "source": [
    "csv_df.count()"
   ]
  },
  {
   "cell_type": "code",
   "execution_count": 7,
   "metadata": {
    "scrolled": true
   },
   "outputs": [
    {
     "name": "stdout",
     "output_type": "stream",
     "text": [
      "+--------+--------------+----------------+--------+--------+----------+--------+------------+------------------+---------+---------+----------+-----+------+--------------+\n",
      "|기준년도|가입자일련번호|처방내역일련번호|일련번호|성별코드|연령대코드|시도코드|요양개시일자|약품일반성분명코드|1회투약량|1일투약량|총투여일수| 단가|  금액|데이터공개일자|\n",
      "+--------+--------------+----------------+--------+--------+----------+--------+------------+------------------+---------+---------+----------+-----+------+--------------+\n",
      "|    2018|        700001|        19846989|       6|       1|         8|      45|  2018-01-05|         463601ATB|      1.0|      1.0|       5.0|210.0|1050.0|      20191217|\n",
      "|    2018|        700001|        34735781|       5|       1|         8|      45|  2018-12-03|         463601ATB|      1.0|      1.0|       5.0|210.0|1050.0|      20191217|\n",
      "|    2018|        700001|        33866502|       1|       1|         8|      45|  2018-07-02|         621702ATB|      1.0|      2.0|       7.0|205.0|2870.0|      20191217|\n",
      "|    2018|        700001|        34735781|       2|       1|         8|      45|  2018-12-03|         101804ACH|      1.0|      3.0|       5.0| 80.0|1200.0|      20191217|\n",
      "|    2018|        700001|        18431207|       2|       1|         8|      45|  2018-11-20|         101804ACH|      1.0|      3.0|       5.0| 80.0|1200.0|      20191217|\n",
      "+--------+--------------+----------------+--------+--------+----------+--------+------------+------------------+---------+---------+----------+-----+------+--------------+\n",
      "only showing top 5 rows\n",
      "\n"
     ]
    }
   ],
   "source": [
    "csv_df.show(5)"
   ]
  },
  {
   "cell_type": "markdown",
   "metadata": {},
   "source": [
    "We have around 79 million rows with various potential case for data analysis. "
   ]
  },
  {
   "cell_type": "markdown",
   "metadata": {},
   "source": [
    "Next, we will try to find null values in our data"
   ]
  },
  {
   "cell_type": "code",
   "execution_count": 8,
   "metadata": {
    "scrolled": false
   },
   "outputs": [
    {
     "name": "stdout",
     "output_type": "stream",
     "text": [
      "null values in 가입자일련번호:0\n",
      "null values in 처방내역일련번호:0\n",
      "null values in 일련번호:0\n",
      "null values in 성별코드:0\n",
      "null values in 시도코드:0\n",
      "null values in 요양개시일자:0\n",
      "null values in 약품일반성분명코드:5647\n"
     ]
    }
   ],
   "source": [
    "list_col = ['가입자일련번호','처방내역일련번호','일련번호','성별코드',\n",
    "            '시도코드','요양개시일자','약품일반성분명코드']\n",
    "\n",
    "for col_ in list_col:\n",
    "    print(\"null values in \"+col_+\":\"+str(csv_df.where(F.col(col_).isNull()).count()))"
   ]
  },
  {
   "cell_type": "code",
   "execution_count": 9,
   "metadata": {},
   "outputs": [
    {
     "name": "stdout",
     "output_type": "stream",
     "text": [
      "Zero values in 기준년도:0\n",
      "Zero values in 성별코드:0\n",
      "Zero values in 일련번호:0\n",
      "Zero values in 연령대코드:0\n",
      "Zero values in 1회투약량:148\n",
      "Zero values in 1일투약량:67\n",
      "Zero values in 총투여일수:115\n",
      "Zero values in 단가:6954\n",
      "Zero values in 금액:8994\n",
      "Zero values in 데이터공개일자:0\n"
     ]
    }
   ],
   "source": [
    "list_col = ['기준년도','성별코드','일련번호','연령대코드','1회투약량','1일투약량','총투여일수','단가',\n",
    "             '금액','데이터공개일자']\n",
    "\n",
    "for col_ in list_col:\n",
    "    print(\"Zero values in \"+col_+\":\"+str(csv_df.where(F.col(col_)==0).count()))"
   ]
  },
  {
   "cell_type": "markdown",
   "metadata": {},
   "source": [
    "We see that 약품일반성분명코드 has a some NULL rows.\n",
    "Other related rows (1회투약량, 1일투약량, 총투여일수,  단가,  금액) also has some zero values (which means the medicine is free, or else).\n",
    "In some analytics case, we will drop rows that have these null and zero values."
   ]
  },
  {
   "cell_type": "markdown",
   "metadata": {},
   "source": [
    "## Data analysis cases\n",
    "\n",
    "I propose some marketing and business development-related analysis cases for the dataset. For simplicity, I only use two aggregation functions: sum and average\n",
    "1. Total expenditure for prescription\n",
    "3. Consumptions of medicines \n",
    "5. Length of medication "
   ]
  },
  {
   "cell_type": "markdown",
   "metadata": {},
   "source": [
    "Total expenditure analysis focuses on the money that each market spend for medicine. We will see the trends for each year based on Gender, Age group, Location, and Month/seasons.\n",
    "\n",
    "Meanwhile, the consumptions of medicines discuss about how much each market segment consume a specific medicine. Similar to the total expenditure analysis, we will see the segment behaviour based on  Gender, Age group, Location, and Month/seasons.\n",
    "\n",
    "The length of medication mainly describes the length of medication (possibly hospitalization) each market segment do based on the prescriptions."
   ]
  },
  {
   "cell_type": "markdown",
   "metadata": {},
   "source": [
    "### Preprocessing for data analysis case\n",
    "#### 1. Expenditure"
   ]
  },
  {
   "cell_type": "markdown",
   "metadata": {},
   "source": [
    "Here, I use the total expenditure for each market segment. Thus, to simplify the data processing later in visualization, I summarize the dataset into intermediate files. I will do the same thing with the other cases."
   ]
  },
  {
   "cell_type": "code",
   "execution_count": 134,
   "metadata": {},
   "outputs": [],
   "source": [
    "exp_df = csv_df.select(['성별코드','연령대코드','시도코드','요양개시일자','금액'])\n",
    "exp_df = exp_df.groupBy(['성별코드','연령대코드','시도코드','요양개시일자'])\\\n",
    "    .agg(F.sum('금액').alias('Total_exp'))\n"
   ]
  },
  {
   "cell_type": "code",
   "execution_count": 135,
   "metadata": {
    "scrolled": true
   },
   "outputs": [
    {
     "name": "stdout",
     "output_type": "stream",
     "text": [
      "+--------+----------+--------+------------+-----------+\n",
      "|성별코드|연령대코드|시도코드|요양개시일자|  Total_exp|\n",
      "+--------+----------+--------+------------+-----------+\n",
      "|       1|        10|      41|  2018-06-09|  6167911.0|\n",
      "|       2|        17|      46|  2018-05-10|  3353423.0|\n",
      "|       2|         2|      45|  2018-12-10|   310797.0|\n",
      "|       2|         1|      31|  2018-09-07|   148290.0|\n",
      "|       2|         8|      41|  2018-07-26|  6656346.0|\n",
      "|       2|        14|      42|  2018-11-20|  1090428.0|\n",
      "|       1|        15|      26|  2018-02-21|  4610111.0|\n",
      "|       2|        13|      11|  2018-05-16|1.2973176E7|\n",
      "|       1|        11|      41|  2018-10-02|1.2293847E7|\n",
      "|       2|        10|      41|  2018-01-02|  6270051.0|\n",
      "+--------+----------+--------+------------+-----------+\n",
      "only showing top 10 rows\n",
      "\n"
     ]
    }
   ],
   "source": [
    "exp_df.show(10)"
   ]
  },
  {
   "cell_type": "markdown",
   "metadata": {},
   "source": [
    "#### 2. Consumptions of medicines\n"
   ]
  },
  {
   "cell_type": "markdown",
   "metadata": {},
   "source": [
    "For this one, I want to focus on the top 10 consumed medicine in year 2017 and 2018. Thus, I select and filtered the main dataframe to contain only the top 10 consumed medicine in year 2017 and 2018."
   ]
  },
  {
   "cell_type": "code",
   "execution_count": 101,
   "metadata": {},
   "outputs": [],
   "source": [
    "def calc_consumption(dose,daily,num_days):\n",
    "    return dose * daily * num_days\n",
    "\n",
    "calc_consumption_double  = F.udf(lambda x,y,z: calc_consumption(x,y,z), DoubleType())\n",
    "spark.udf.register(\"calc_consumption_double\", calc_consumption_double)\n",
    "\n",
    "cons_df = csv_df.withColumn('consumption',\\\n",
    "                            calc_consumption_double('1회투약량','1일투약량','총투여일수'))\\\n",
    "                .select(['성별코드','연령대코드','시도코드','요양개시일자',\\\n",
    "                        '약품일반성분명코드','consumption'])\n",
    "medicine_top10 = cons_df.groupBy('약품일반성분명코드').agg(F.sum('consumption'))\\\n",
    "    .orderBy(F.desc('sum(consumption)')).take(10)"
   ]
  },
  {
   "cell_type": "code",
   "execution_count": 117,
   "metadata": {
    "scrolled": true
   },
   "outputs": [
    {
     "data": {
      "text/plain": [
       "[Row(약품일반성분명코드='222901ATB', sum(consumption)=36226176.75631617),\n",
       " Row(약품일반성분명코드='421001ATB', sum(consumption)=32810951.60408868),\n",
       " Row(약품일반성분명코드='438901ATB', sum(consumption)=32514595.492918123),\n",
       " Row(약품일반성분명코드='530800ASY', sum(consumption)=25916246.90626848),\n",
       " Row(약품일반성분명코드='271800ATB', sum(consumption)=25682333.858704507),\n",
       " Row(약품일반성분명코드='535000ASY', sum(consumption)=25564158.46333592),\n",
       " Row(약품일반성분명코드='186101ATB', sum(consumption)=23329382.675295293),\n",
       " Row(약품일반성분명코드='532600ASY', sum(consumption)=22754545.092887234),\n",
       " Row(약품일반성분명코드='111501ATB', sum(consumption)=21855497.46899557),\n",
       " Row(약품일반성분명코드='101430ATR', sum(consumption)=19983380.07559821)]"
      ]
     },
     "execution_count": 117,
     "metadata": {},
     "output_type": "execute_result"
    }
   ],
   "source": [
    "medicine_top10"
   ]
  },
  {
   "cell_type": "markdown",
   "metadata": {},
   "source": [
    "There is no NULL medicine that is consumed in the top 10 category. Thus, it is okay to ignore the NULL values."
   ]
  },
  {
   "cell_type": "code",
   "execution_count": 113,
   "metadata": {},
   "outputs": [
    {
     "data": {
      "text/plain": [
       "['222901ATB',\n",
       " '421001ATB',\n",
       " '438901ATB',\n",
       " '530800ASY',\n",
       " '271800ATB',\n",
       " '535000ASY',\n",
       " '186101ATB',\n",
       " '532600ASY',\n",
       " '111501ATB',\n",
       " '101430ATR']"
      ]
     },
     "execution_count": 113,
     "metadata": {},
     "output_type": "execute_result"
    }
   ],
   "source": [
    "medicine_top10_list = []\n",
    "for i in range(10):\n",
    "    medicine_top10_list.append(medicine_top10[i].asDict()[\"약품일반성분명코드\"])\n",
    "medicine_top10_list"
   ]
  },
  {
   "cell_type": "code",
   "execution_count": 120,
   "metadata": {},
   "outputs": [
    {
     "name": "stdout",
     "output_type": "stream",
     "text": [
      "+--------+----------+--------+------------+------------------+-----------+\n",
      "|성별코드|연령대코드|시도코드|요양개시일자|약품일반성분명코드|consumption|\n",
      "+--------+----------+--------+------------+------------------+-----------+\n",
      "|       1|         8|      45|  2018-12-03|         186101ATB|       10.0|\n",
      "|       1|         8|      45|  2018-01-05|         186101ATB|       15.0|\n",
      "|       1|         8|      45|  2018-11-20|         186101ATB|       10.0|\n",
      "|       1|         8|      45|  2018-12-03|         271800ATB|       15.0|\n",
      "|       1|         8|      45|  2018-11-20|         271800ATB|       15.0|\n",
      "|       1|         8|      45|  2018-01-05|         271800ATB|       15.0|\n",
      "|       1|         8|      45|  2018-12-10|         101430ATR|        9.0|\n",
      "|       1|         6|      44|  2018-05-25|         438901ATB|       14.0|\n",
      "|       1|         6|      44|  2018-05-01|         222901ATB|        9.0|\n",
      "|       2|         8|      11|  2018-02-20|         438901ATB|       15.0|\n",
      "|       2|         8|      11|  2018-05-01|         438901ATB|        6.0|\n",
      "|       2|         8|      11|  2018-02-20|         101430ATR|       15.0|\n",
      "|       2|         8|      11|  2018-07-02|         101430ATR|       12.0|\n",
      "|       2|         8|      11|  2018-06-29|         101430ATR|       12.0|\n",
      "|       2|         8|      11|  2018-05-01|         186101ATB|        6.0|\n",
      "|       2|         8|      11|  2018-02-20|         271800ATB|       15.0|\n",
      "|       2|         8|      11|  2018-12-04|         101430ATR|        9.0|\n",
      "|       2|         4|      11|  2018-05-10|         186101ATB|        6.0|\n",
      "|       2|         4|      11|  2018-03-06|         222901ATB|       28.0|\n",
      "|       2|         4|      11|  2018-01-30|         421001ATB|       21.0|\n",
      "+--------+----------+--------+------------+------------------+-----------+\n",
      "only showing top 20 rows\n",
      "\n"
     ]
    }
   ],
   "source": [
    "cons_df_top10 = cons_df.filter(cons_df.약품일반성분명코드.isin(medicine_top10_list))\n",
    "cons_df_top10.show()"
   ]
  },
  {
   "cell_type": "markdown",
   "metadata": {},
   "source": [
    "#### 3. Length of medication"
   ]
  },
  {
   "cell_type": "markdown",
   "metadata": {},
   "source": [
    "I assume the length of medication is the maximum value of the medication days (총투여일수) for each person each prescription. Thus, I will group them by {성별코드,연령대코드,시도코드,요양개시일자} because as far as I preprocess the data (not shown in this file), each 처방내역일련번호 (prescription number) may have many people with different 성별코드,연령대코드,시도코드. I include 요양개시일자 for later categorization."
   ]
  },
  {
   "cell_type": "code",
   "execution_count": 139,
   "metadata": {
    "scrolled": true
   },
   "outputs": [
    {
     "name": "stdout",
     "output_type": "stream",
     "text": [
      "+------------+--------+----------+--------+--------+\n",
      "|요양개시일자|성별코드|연령대코드|시도코드|Med_days|\n",
      "+------------+--------+----------+--------+--------+\n",
      "|  2018-08-17|       1|        14|      11|   180.0|\n",
      "|  2018-09-28|       2|        12|      48|    90.0|\n",
      "|  2018-10-01|       2|        15|      41|   185.0|\n",
      "|  2018-11-30|       1|        16|      41|   180.0|\n",
      "|  2018-06-27|       2|         4|      41|    35.0|\n",
      "|  2018-06-01|       1|        15|      41|   180.0|\n",
      "|  2018-09-13|       2|        12|      41|   365.0|\n",
      "|  2018-06-18|       2|        17|      28|   126.0|\n",
      "|  2018-03-14|       1|         6|      27|     7.0|\n",
      "|  2018-11-12|       1|         6|      41|    63.0|\n",
      "|  2018-08-10|       1|        16|      31|   140.0|\n",
      "|  2018-08-24|       1|        11|      41|   185.0|\n",
      "|  2018-04-02|       2|        10|      47|    60.0|\n",
      "|  2018-09-10|       2|         8|      41|   126.0|\n",
      "|  2018-12-12|       2|         3|      36|     5.0|\n",
      "|  2018-08-20|       1|        18|      41|   180.0|\n",
      "|  2018-08-22|       2|        15|      30|   180.0|\n",
      "|  2018-02-27|       2|         3|      11|    70.0|\n",
      "|  2018-10-29|       1|        14|      28|    98.0|\n",
      "|  2018-07-26|       2|        11|      11|   180.0|\n",
      "+------------+--------+----------+--------+--------+\n",
      "only showing top 20 rows\n",
      "\n"
     ]
    }
   ],
   "source": [
    "lom_df = csv_df.select(['요양개시일자','성별코드','연령대코드','시도코드','총투여일수'])\n",
    "lom_df = lom_df.groupBy(['요양개시일자','성별코드','연령대코드','시도코드'])\\\n",
    "                .agg(F.max('총투여일수').alias('Med_days'))\n",
    "lom_df.show()"
   ]
  },
  {
   "cell_type": "markdown",
   "metadata": {},
   "source": [
    "-----------------------------------"
   ]
  },
  {
   "cell_type": "markdown",
   "metadata": {},
   "source": [
    "For quicker processing, we save those intermediate tables as CSV files"
   ]
  },
  {
   "cell_type": "code",
   "execution_count": 137,
   "metadata": {},
   "outputs": [],
   "source": [
    "exp_df.write.csv('intermediate/expenditure')\n",
    "cons_df_top10.write.csv('intermediate/medicine_top10')\n",
    "lom_df.write.csv('intermediate/medication_days')"
   ]
  },
  {
   "cell_type": "markdown",
   "metadata": {},
   "source": [
    "Then, I move on the visualization cases"
   ]
  },
  {
   "cell_type": "markdown",
   "metadata": {},
   "source": [
    "----------------------------------------------"
   ]
  },
  {
   "cell_type": "markdown",
   "metadata": {},
   "source": [
    "## Visualization"
   ]
  },
  {
   "cell_type": "markdown",
   "metadata": {},
   "source": [
    "I categorize each analysis to these types: Gender, Age group, Location, and Month/seasons.\n",
    "Then, I visualize each category per year and conclude some insight about them.\n",
    "\n",
    "Let's start analyzing!"
   ]
  },
  {
   "cell_type": "markdown",
   "metadata": {},
   "source": [
    "First, I create new spark app that directly works on the visualization case."
   ]
  },
  {
   "cell_type": "code",
   "execution_count": 138,
   "metadata": {},
   "outputs": [],
   "source": [
    "spark_viz = SparkSession \\\n",
    "    .builder \\\n",
    "    .appName(\"Visualization\") \\\n",
    "    .getOrCreate()"
   ]
  },
  {
   "cell_type": "markdown",
   "metadata": {},
   "source": [
    "Then, I define the schema for each case."
   ]
  },
  {
   "cell_type": "code",
   "execution_count": 244,
   "metadata": {},
   "outputs": [],
   "source": [
    "pres_exp_schema = StructType([StructField('성별코드', IntegerType(),True),\n",
    "                                 StructField('연령대코드', IntegerType(),True),\n",
    "                                 StructField('시도코드', StringType(),True),\n",
    "                                 StructField('요양개시일자', DateType(),True),\n",
    "                                 StructField('Total_exp', DoubleType(),True)])\n",
    "\n",
    "pres_cons_schema = StructType([StructField('성별코드', IntegerType(),True),\n",
    "                                 StructField('연령대코드', IntegerType(),True),\n",
    "                                 StructField('시도코드', StringType(),True),\n",
    "                                 StructField('요양개시일자', DateType(),True),\n",
    "                                 StructField('약품일반성분명코드', StringType(),True),\n",
    "                                 StructField('consumption', DoubleType(),True)])\n",
    "\n",
    "pres_med_schema = StructType([ StructField('요양개시일자', DateType(),True),\n",
    "                                 StructField('성별코드', IntegerType(),True),\n",
    "                                 StructField('연령대코드', IntegerType(),True),\n",
    "                                 StructField('시도코드', StringType(),True),\n",
    "                                 StructField('Med_days', DoubleType(),True)])"
   ]
  },
  {
   "cell_type": "code",
   "execution_count": 249,
   "metadata": {},
   "outputs": [],
   "source": [
    "exp_df= spark_exp.read.csv(\"intermediate/expenditure/*.csv\",  \n",
    "                         header=False, \n",
    "                         encoding=\"euc_kr\",\n",
    "                        dateFormat=\"yyyy-MM-dd\",\n",
    "                        schema=pres_exp_schema)\n",
    "cons_df= spark_exp.read.csv(\"intermediate/medicine_top10/*.csv\",  \n",
    "                         header=False, \n",
    "                         encoding=\"euc_kr\",\n",
    "                        dateFormat=\"yyyy-MM-dd\",\n",
    "                        schema=pres_cons_schema)\n",
    "meds_df= spark_exp.read.csv(\"intermediate/medication_days/*.csv\",  \n",
    "                         header=False, \n",
    "                         encoding=\"euc_kr\",\n",
    "                        dateFormat=\"yyyy-MM-dd\",\n",
    "                        schema=pres_med_schema)"
   ]
  },
  {
   "cell_type": "markdown",
   "metadata": {},
   "source": [
    "Each analysis have the same structure:\n",
    "1. Month/Seasons\n",
    "2. Gender\n",
    "3. Age group\n",
    "4. Location\n",
    "\n",
    "I display the analysis of those four categories in two styles: (2017+2018) and separated."
   ]
  },
  {
   "cell_type": "markdown",
   "metadata": {},
   "source": [
    "For simplicity, I create a function that converts the spark dataframe to pandas dataframe. The pandas dataframe already has a built-in matplotlib functions. So, I can display the visualization with more convenience."
   ]
  },
  {
   "cell_type": "code",
   "execution_count": 167,
   "metadata": {},
   "outputs": [],
   "source": [
    "def create_df_per__cat(spark_df,category,f_agg,agg_col,alias_):\n",
    "    #pd_df_cat displays the aggregation in (2017+2018) style (not separated)\n",
    "    #pd_df_cat_year displays the aggregation in separated year style\n",
    "    pd_df_cat = spark_df.groupBy(category).agg(f_agg(agg_col)).toPandas()\n",
    "    category.append(F.year('요양개시일자'))\n",
    "    pd_df_cat_year = spark_df.groupBy(category)\\\n",
    "                        .agg(f_agg(agg_col)).toPandas()\n",
    "    return pd_df_cat, pd_df_cat_year"
   ]
  },
  {
   "cell_type": "markdown",
   "metadata": {},
   "source": [
    "In addition, I create dictionary that contains the codification of age group code, gender code, and the city/province code. The matplotlib by default cannot display hangeul characters. Thus, I use alphabet to describe each code."
   ]
  },
  {
   "cell_type": "code",
   "execution_count": 147,
   "metadata": {},
   "outputs": [],
   "source": [
    "age_code = [(1,'00-04'),(2,'05-09'),(3,'10-14'),\n",
    "            (4,'15-19'),(5,'20-24'),(6,'25-29'),\n",
    "            (7,'30-34'),(8,'35-39'),(9,'40-44'),\n",
    "            (10,'45-49'),(11,'50-54'),(12,'55-59'),\n",
    "            (13,'60-64'),(14,'65-69'),(15,'70-74'),\n",
    "            (16,'75-79'),(17,'80-84'),(18,'85+')]\n",
    "age_code = dict(age_code)\n",
    "gender_code =  {1: 'male', 2: 'female'}\n",
    "city_code = {'11':'Seoul','42':'Gangwon-do',\n",
    "            '26':'Busan','43':'Chungcheongbuk-do',\n",
    "            '27':'Daegu','44':'Chungcheongnam-do',\n",
    "            '28':'Incheon','45':'Jeollabuk-do',\n",
    "            '29':'Gwangju','46':'Jeollanam-do',\n",
    "            '30':'Daejeon','47':'Gyeongsangbuk-do',\n",
    "            '31':'Ulsan','48':'Gyeongsangnam-do',\n",
    "            '36':'Sejong','49':'Jeju',\n",
    "            '41':'Gyeongggi-do'}\n",
    "city_code = dict(city_code)"
   ]
  },
  {
   "cell_type": "markdown",
   "metadata": {},
   "source": [
    "### 1. Total Expenditure Case\n",
    "\n"
   ]
  },
  {
   "cell_type": "code",
   "execution_count": 207,
   "metadata": {},
   "outputs": [],
   "source": [
    "exp_month, exp_month_yr = create_df_per_year_cat(exp_df,[F.month('요양개시일자')],\\\n",
    "                                               F.sum,'Total_exp','Total_exp')"
   ]
  },
  {
   "cell_type": "code",
   "execution_count": 208,
   "metadata": {
    "scrolled": true
   },
   "outputs": [
    {
     "data": {
      "text/html": [
       "<div>\n",
       "<style scoped>\n",
       "    .dataframe tbody tr th:only-of-type {\n",
       "        vertical-align: middle;\n",
       "    }\n",
       "\n",
       "    .dataframe tbody tr th {\n",
       "        vertical-align: top;\n",
       "    }\n",
       "\n",
       "    .dataframe thead th {\n",
       "        text-align: right;\n",
       "    }\n",
       "</style>\n",
       "<table border=\"1\" class=\"dataframe\">\n",
       "  <thead>\n",
       "    <tr style=\"text-align: right;\">\n",
       "      <th></th>\n",
       "      <th>month(요양개시일자)</th>\n",
       "      <th>sum(Total_exp)</th>\n",
       "    </tr>\n",
       "  </thead>\n",
       "  <tbody>\n",
       "    <tr>\n",
       "      <th>0</th>\n",
       "      <td>12</td>\n",
       "      <td>4.517764e+10</td>\n",
       "    </tr>\n",
       "    <tr>\n",
       "      <th>1</th>\n",
       "      <td>1</td>\n",
       "      <td>4.049051e+10</td>\n",
       "    </tr>\n",
       "    <tr>\n",
       "      <th>2</th>\n",
       "      <td>6</td>\n",
       "      <td>3.948702e+10</td>\n",
       "    </tr>\n",
       "    <tr>\n",
       "      <th>3</th>\n",
       "      <td>3</td>\n",
       "      <td>4.097551e+10</td>\n",
       "    </tr>\n",
       "    <tr>\n",
       "      <th>4</th>\n",
       "      <td>5</td>\n",
       "      <td>4.138277e+10</td>\n",
       "    </tr>\n",
       "  </tbody>\n",
       "</table>\n",
       "</div>"
      ],
      "text/plain": [
       "   month(요양개시일자)  sum(Total_exp)\n",
       "0             12    4.517764e+10\n",
       "1              1    4.049051e+10\n",
       "2              6    3.948702e+10\n",
       "3              3    4.097551e+10\n",
       "4              5    4.138277e+10"
      ]
     },
     "execution_count": 208,
     "metadata": {},
     "output_type": "execute_result"
    }
   ],
   "source": [
    "exp_month.head()"
   ]
  },
  {
   "cell_type": "code",
   "execution_count": 209,
   "metadata": {
    "scrolled": true
   },
   "outputs": [
    {
     "data": {
      "text/html": [
       "<div>\n",
       "<style scoped>\n",
       "    .dataframe tbody tr th:only-of-type {\n",
       "        vertical-align: middle;\n",
       "    }\n",
       "\n",
       "    .dataframe tbody tr th {\n",
       "        vertical-align: top;\n",
       "    }\n",
       "\n",
       "    .dataframe thead th {\n",
       "        text-align: right;\n",
       "    }\n",
       "</style>\n",
       "<table border=\"1\" class=\"dataframe\">\n",
       "  <thead>\n",
       "    <tr style=\"text-align: right;\">\n",
       "      <th></th>\n",
       "      <th>month(요양개시일자)</th>\n",
       "      <th>year(요양개시일자)</th>\n",
       "      <th>sum(Total_exp)</th>\n",
       "    </tr>\n",
       "  </thead>\n",
       "  <tbody>\n",
       "    <tr>\n",
       "      <th>0</th>\n",
       "      <td>7</td>\n",
       "      <td>2018</td>\n",
       "      <td>2.099426e+10</td>\n",
       "    </tr>\n",
       "    <tr>\n",
       "      <th>1</th>\n",
       "      <td>1</td>\n",
       "      <td>2017</td>\n",
       "      <td>1.846887e+10</td>\n",
       "    </tr>\n",
       "    <tr>\n",
       "      <th>2</th>\n",
       "      <td>3</td>\n",
       "      <td>2017</td>\n",
       "      <td>1.999875e+10</td>\n",
       "    </tr>\n",
       "    <tr>\n",
       "      <th>3</th>\n",
       "      <td>6</td>\n",
       "      <td>2018</td>\n",
       "      <td>2.022949e+10</td>\n",
       "    </tr>\n",
       "    <tr>\n",
       "      <th>4</th>\n",
       "      <td>3</td>\n",
       "      <td>2018</td>\n",
       "      <td>2.097676e+10</td>\n",
       "    </tr>\n",
       "  </tbody>\n",
       "</table>\n",
       "</div>"
      ],
      "text/plain": [
       "   month(요양개시일자)  year(요양개시일자)  sum(Total_exp)\n",
       "0              7          2018    2.099426e+10\n",
       "1              1          2017    1.846887e+10\n",
       "2              3          2017    1.999875e+10\n",
       "3              6          2018    2.022949e+10\n",
       "4              3          2018    2.097676e+10"
      ]
     },
     "execution_count": 209,
     "metadata": {},
     "output_type": "execute_result"
    }
   ],
   "source": [
    "exp_month_yr.head()"
   ]
  },
  {
   "cell_type": "markdown",
   "metadata": {},
   "source": [
    "The total expenditure is very large, I will divide them by 1 million to simplify the visualization. I also rename the columns for better visualization."
   ]
  },
  {
   "cell_type": "code",
   "execution_count": 198,
   "metadata": {},
   "outputs": [],
   "source": [
    "exp_month.columns=['month','total_exp']\n",
    "exp_month.total_exp = exp_month.total_exp / (1000 * 1000)\n",
    "exp_month_yr.columns=['month','year','total_exp']\n",
    "exp_month_yr.total_exp = exp_month_yr.total_exp / (1000 * 1000)"
   ]
  },
  {
   "cell_type": "code",
   "execution_count": 204,
   "metadata": {
    "scrolled": true
   },
   "outputs": [
    {
     "data": {
      "text/plain": [
       "Text(0, 0.5, 'Total Expenditure (in Million KRW)')"
      ]
     },
     "execution_count": 204,
     "metadata": {},
     "output_type": "execute_result"
    },
    {
     "data": {
      "image/png": "[encoded data removed]",
      "text/plain": [
       "<Figure size 1080x432 with 2 Axes>"
      ]
     },
     "metadata": {
      "needs_background": "light"
     },
     "output_type": "display_data"
    }
   ],
   "source": [
    "fig, axes = plt.subplots(1,2,figsize=(15,6))\n",
    "\n",
    "ax1 = exp_month.sort_values(by=['month']).set_index('month').plot.bar(ax = axes[0])\n",
    "ax1.set_ylabel(\"Total Expenditure (in Million KRW)\")\n",
    "\n",
    "ax2 = exp_month_yr.groupby(['year','month']).\\\n",
    "                        total_exp.sum().\\\n",
    "                        unstack(0).plot.\\\n",
    "                        bar(ax = axes[1],rot=0, color=['k','g'])\n",
    "ax2.set_ylabel(\"Total Expenditure (in Million KRW)\")"
   ]
  },
  {
   "cell_type": "markdown",
   "metadata": {},
   "source": [
    "By each month, it seems there is no visible trend of the expenditure.\n",
    "However, considering the year from 2017 to 2018, the expenditure always increases except in September."
   ]
  },
  {
   "cell_type": "markdown",
   "metadata": {},
   "source": [
    "#### Gender\n"
   ]
  },
  {
   "cell_type": "code",
   "execution_count": 214,
   "metadata": {},
   "outputs": [],
   "source": [
    "exp_gender,exp_gender_yr =  create_df_per_year_cat(exp_df,['성별코드'],\\\n",
    "                                               F.sum,'Total_exp','Total_exp')"
   ]
  },
  {
   "cell_type": "code",
   "execution_count": 215,
   "metadata": {
    "scrolled": false
   },
   "outputs": [
    {
     "data": {
      "text/html": [
       "<div>\n",
       "<style scoped>\n",
       "    .dataframe tbody tr th:only-of-type {\n",
       "        vertical-align: middle;\n",
       "    }\n",
       "\n",
       "    .dataframe tbody tr th {\n",
       "        vertical-align: top;\n",
       "    }\n",
       "\n",
       "    .dataframe thead th {\n",
       "        text-align: right;\n",
       "    }\n",
       "</style>\n",
       "<table border=\"1\" class=\"dataframe\">\n",
       "  <thead>\n",
       "    <tr style=\"text-align: right;\">\n",
       "      <th></th>\n",
       "      <th>성별코드</th>\n",
       "      <th>sum(Total_exp)</th>\n",
       "    </tr>\n",
       "  </thead>\n",
       "  <tbody>\n",
       "    <tr>\n",
       "      <th>0</th>\n",
       "      <td>1</td>\n",
       "      <td>2.392496e+11</td>\n",
       "    </tr>\n",
       "    <tr>\n",
       "      <th>1</th>\n",
       "      <td>2</td>\n",
       "      <td>2.522366e+11</td>\n",
       "    </tr>\n",
       "  </tbody>\n",
       "</table>\n",
       "</div>"
      ],
      "text/plain": [
       "   성별코드  sum(Total_exp)\n",
       "0     1    2.392496e+11\n",
       "1     2    2.522366e+11"
      ]
     },
     "execution_count": 215,
     "metadata": {},
     "output_type": "execute_result"
    }
   ],
   "source": [
    "exp_gender"
   ]
  },
  {
   "cell_type": "code",
   "execution_count": 216,
   "metadata": {},
   "outputs": [
    {
     "data": {
      "text/html": [
       "<div>\n",
       "<style scoped>\n",
       "    .dataframe tbody tr th:only-of-type {\n",
       "        vertical-align: middle;\n",
       "    }\n",
       "\n",
       "    .dataframe tbody tr th {\n",
       "        vertical-align: top;\n",
       "    }\n",
       "\n",
       "    .dataframe thead th {\n",
       "        text-align: right;\n",
       "    }\n",
       "</style>\n",
       "<table border=\"1\" class=\"dataframe\">\n",
       "  <thead>\n",
       "    <tr style=\"text-align: right;\">\n",
       "      <th></th>\n",
       "      <th>성별코드</th>\n",
       "      <th>year(요양개시일자)</th>\n",
       "      <th>sum(Total_exp)</th>\n",
       "    </tr>\n",
       "  </thead>\n",
       "  <tbody>\n",
       "    <tr>\n",
       "      <th>0</th>\n",
       "      <td>1</td>\n",
       "      <td>2017</td>\n",
       "      <td>1.145227e+11</td>\n",
       "    </tr>\n",
       "    <tr>\n",
       "      <th>1</th>\n",
       "      <td>1</td>\n",
       "      <td>2018</td>\n",
       "      <td>1.247270e+11</td>\n",
       "    </tr>\n",
       "    <tr>\n",
       "      <th>2</th>\n",
       "      <td>2</td>\n",
       "      <td>2017</td>\n",
       "      <td>1.219683e+11</td>\n",
       "    </tr>\n",
       "    <tr>\n",
       "      <th>3</th>\n",
       "      <td>2</td>\n",
       "      <td>2018</td>\n",
       "      <td>1.302683e+11</td>\n",
       "    </tr>\n",
       "  </tbody>\n",
       "</table>\n",
       "</div>"
      ],
      "text/plain": [
       "   성별코드  year(요양개시일자)  sum(Total_exp)\n",
       "0     1          2017    1.145227e+11\n",
       "1     1          2018    1.247270e+11\n",
       "2     2          2017    1.219683e+11\n",
       "3     2          2018    1.302683e+11"
      ]
     },
     "execution_count": 216,
     "metadata": {},
     "output_type": "execute_result"
    }
   ],
   "source": [
    "exp_gender_yr"
   ]
  },
  {
   "cell_type": "markdown",
   "metadata": {},
   "source": [
    "Similar to the months category, I will divide them by 1 million to simplify the visualization. And also, I rename the columns to alphabet and decode the gender code"
   ]
  },
  {
   "cell_type": "code",
   "execution_count": 217,
   "metadata": {},
   "outputs": [],
   "source": [
    "exp_gender.columns=['Gender','total_exp']\n",
    "exp_gender = exp_gender.replace({'Gender':gender_code})\n",
    "exp_gender.total_exp = exp_gender.total_exp / (1000 * 1000)\n",
    "exp_gender_yr.columns=['Gender','year','total_exp']\n",
    "exp_gender_yr = exp_gender_yr.replace({'Gender':gender_code})\n",
    "exp_gender_yr.total_exp = exp_gender_yr.total_exp / (1000 * 1000)"
   ]
  },
  {
   "cell_type": "code",
   "execution_count": 218,
   "metadata": {},
   "outputs": [
    {
     "data": {
      "text/html": [
       "<div>\n",
       "<style scoped>\n",
       "    .dataframe tbody tr th:only-of-type {\n",
       "        vertical-align: middle;\n",
       "    }\n",
       "\n",
       "    .dataframe tbody tr th {\n",
       "        vertical-align: top;\n",
       "    }\n",
       "\n",
       "    .dataframe thead th {\n",
       "        text-align: right;\n",
       "    }\n",
       "</style>\n",
       "<table border=\"1\" class=\"dataframe\">\n",
       "  <thead>\n",
       "    <tr style=\"text-align: right;\">\n",
       "      <th></th>\n",
       "      <th>Gender</th>\n",
       "      <th>total_exp</th>\n",
       "    </tr>\n",
       "  </thead>\n",
       "  <tbody>\n",
       "    <tr>\n",
       "      <th>0</th>\n",
       "      <td>male</td>\n",
       "      <td>239249.648350</td>\n",
       "    </tr>\n",
       "    <tr>\n",
       "      <th>1</th>\n",
       "      <td>female</td>\n",
       "      <td>252236.589215</td>\n",
       "    </tr>\n",
       "  </tbody>\n",
       "</table>\n",
       "</div>"
      ],
      "text/plain": [
       "   Gender      total_exp\n",
       "0    male  239249.648350\n",
       "1  female  252236.589215"
      ]
     },
     "execution_count": 218,
     "metadata": {},
     "output_type": "execute_result"
    }
   ],
   "source": [
    "exp_gender"
   ]
  },
  {
   "cell_type": "code",
   "execution_count": 221,
   "metadata": {
    "scrolled": true
   },
   "outputs": [
    {
     "data": {
      "text/plain": [
       "Text(0, 0.5, 'Total Expenditure (in Million KRW)')"
      ]
     },
     "execution_count": 221,
     "metadata": {},
     "output_type": "execute_result"
    },
    {
     "data": {
      "image/png": "[encoded data removed]",
      "text/plain": [
       "<Figure size 720x360 with 2 Axes>"
      ]
     },
     "metadata": {
      "needs_background": "light"
     },
     "output_type": "display_data"
    }
   ],
   "source": [
    "def show_percentage_and_total(pct, allvals):\n",
    "    absolute = int(pct/100.*np.sum(allvals))\n",
    "    return \"{:.1f}%\\n({:.0f} Million KRW)\".format(pct, absolute)\n",
    "\n",
    "fig, axes = plt.subplots(1,2,figsize=(10,5))\n",
    "\n",
    "exp_gender.set_index('Gender').plot.pie(y='total_exp', ax = axes[0],\n",
    "                         autopct=lambda pct: show_percentage_and_total(pct,exp_gender['total_exp']),\n",
    "                         textprops=dict(color=\"w\"))\n",
    "\n",
    "ax = exp_gender_yr.groupby(['year','Gender']).\\\n",
    "                        total_exp.sum().\\\n",
    "                        unstack(0).plot.\\\n",
    "                        bar(ax = axes[1],rot=0, color=['k','g'])\n",
    "ax.set_ylabel(\"Total Expenditure (in Million KRW)\")"
   ]
  },
  {
   "cell_type": "markdown",
   "metadata": {},
   "source": [
    "From the visualization,  females spend more money than males for the medicine than men. In 2018, the expenditures on medicine of each group increases. Let's see how this behaviour go for the other groups."
   ]
  },
  {
   "cell_type": "markdown",
   "metadata": {},
   "source": [
    "#### Age group"
   ]
  },
  {
   "cell_type": "code",
   "execution_count": 210,
   "metadata": {},
   "outputs": [],
   "source": [
    "exp_age, exp_age_yr = create_df_per_year_cat(exp_df,['연령대코드'],\\\n",
    "                                               F.sum,'Total_exp','Total_exp')"
   ]
  },
  {
   "cell_type": "code",
   "execution_count": 211,
   "metadata": {
    "scrolled": true
   },
   "outputs": [
    {
     "data": {
      "text/html": [
       "<div>\n",
       "<style scoped>\n",
       "    .dataframe tbody tr th:only-of-type {\n",
       "        vertical-align: middle;\n",
       "    }\n",
       "\n",
       "    .dataframe tbody tr th {\n",
       "        vertical-align: top;\n",
       "    }\n",
       "\n",
       "    .dataframe thead th {\n",
       "        text-align: right;\n",
       "    }\n",
       "</style>\n",
       "<table border=\"1\" class=\"dataframe\">\n",
       "  <thead>\n",
       "    <tr style=\"text-align: right;\">\n",
       "      <th></th>\n",
       "      <th>연령대코드</th>\n",
       "      <th>sum(Total_exp)</th>\n",
       "    </tr>\n",
       "  </thead>\n",
       "  <tbody>\n",
       "    <tr>\n",
       "      <th>0</th>\n",
       "      <td>12</td>\n",
       "      <td>5.675193e+10</td>\n",
       "    </tr>\n",
       "    <tr>\n",
       "      <th>1</th>\n",
       "      <td>1</td>\n",
       "      <td>9.190243e+09</td>\n",
       "    </tr>\n",
       "    <tr>\n",
       "      <th>2</th>\n",
       "      <td>13</td>\n",
       "      <td>6.271203e+10</td>\n",
       "    </tr>\n",
       "    <tr>\n",
       "      <th>3</th>\n",
       "      <td>6</td>\n",
       "      <td>7.859636e+09</td>\n",
       "    </tr>\n",
       "    <tr>\n",
       "      <th>4</th>\n",
       "      <td>16</td>\n",
       "      <td>5.415630e+10</td>\n",
       "    </tr>\n",
       "  </tbody>\n",
       "</table>\n",
       "</div>"
      ],
      "text/plain": [
       "   연령대코드  sum(Total_exp)\n",
       "0     12    5.675193e+10\n",
       "1      1    9.190243e+09\n",
       "2     13    6.271203e+10\n",
       "3      6    7.859636e+09\n",
       "4     16    5.415630e+10"
      ]
     },
     "execution_count": 211,
     "metadata": {},
     "output_type": "execute_result"
    }
   ],
   "source": [
    "exp_age.head()"
   ]
  },
  {
   "cell_type": "code",
   "execution_count": 213,
   "metadata": {
    "scrolled": false
   },
   "outputs": [
    {
     "data": {
      "text/html": [
       "<div>\n",
       "<style scoped>\n",
       "    .dataframe tbody tr th:only-of-type {\n",
       "        vertical-align: middle;\n",
       "    }\n",
       "\n",
       "    .dataframe tbody tr th {\n",
       "        vertical-align: top;\n",
       "    }\n",
       "\n",
       "    .dataframe thead th {\n",
       "        text-align: right;\n",
       "    }\n",
       "</style>\n",
       "<table border=\"1\" class=\"dataframe\">\n",
       "  <thead>\n",
       "    <tr style=\"text-align: right;\">\n",
       "      <th></th>\n",
       "      <th>연령대코드</th>\n",
       "      <th>year(요양개시일자)</th>\n",
       "      <th>sum(Total_exp)</th>\n",
       "    </tr>\n",
       "  </thead>\n",
       "  <tbody>\n",
       "    <tr>\n",
       "      <th>0</th>\n",
       "      <td>13</td>\n",
       "      <td>2018</td>\n",
       "      <td>3.294563e+10</td>\n",
       "    </tr>\n",
       "    <tr>\n",
       "      <th>1</th>\n",
       "      <td>7</td>\n",
       "      <td>2018</td>\n",
       "      <td>4.615600e+09</td>\n",
       "    </tr>\n",
       "    <tr>\n",
       "      <th>2</th>\n",
       "      <td>1</td>\n",
       "      <td>2017</td>\n",
       "      <td>4.442687e+09</td>\n",
       "    </tr>\n",
       "    <tr>\n",
       "      <th>3</th>\n",
       "      <td>3</td>\n",
       "      <td>2017</td>\n",
       "      <td>2.270083e+09</td>\n",
       "    </tr>\n",
       "    <tr>\n",
       "      <th>4</th>\n",
       "      <td>6</td>\n",
       "      <td>2018</td>\n",
       "      <td>4.042035e+09</td>\n",
       "    </tr>\n",
       "  </tbody>\n",
       "</table>\n",
       "</div>"
      ],
      "text/plain": [
       "   연령대코드  year(요양개시일자)  sum(Total_exp)\n",
       "0     13          2018    3.294563e+10\n",
       "1      7          2018    4.615600e+09\n",
       "2      1          2017    4.442687e+09\n",
       "3      3          2017    2.270083e+09\n",
       "4      6          2018    4.042035e+09"
      ]
     },
     "execution_count": 213,
     "metadata": {},
     "output_type": "execute_result"
    }
   ],
   "source": [
    "exp_age_yr.head()"
   ]
  },
  {
   "cell_type": "markdown",
   "metadata": {},
   "source": [
    "Again, we divide the total expenditure by 1 million and recode the group values."
   ]
  },
  {
   "cell_type": "code",
   "execution_count": 223,
   "metadata": {},
   "outputs": [],
   "source": [
    "exp_age.columns=['age_group','total_exp']\n",
    "exp_age = exp_age.replace({'age_group':age_code})\n",
    "exp_age.total_exp = exp_age.total_exp / (1000 * 1000)\n",
    "exp_age_yr.columns=['age_group','year','total_exp']\n",
    "exp_age_yr = exp_age_yr.replace({'age_group':age_code})\n",
    "exp_age_yr.total_exp = exp_age_yr.total_exp / (1000 * 1000)"
   ]
  },
  {
   "cell_type": "code",
   "execution_count": 228,
   "metadata": {
    "scrolled": false
   },
   "outputs": [
    {
     "data": {
      "text/plain": [
       "Text(0, 0.5, 'Total Expenditure (in Million KRW)')"
      ]
     },
     "execution_count": 228,
     "metadata": {},
     "output_type": "execute_result"
    },
    {
     "data": {
      "image/png": "[encoded data removed]",
      "text/plain": [
       "<Figure size 1080x432 with 2 Axes>"
      ]
     },
     "metadata": {
      "needs_background": "light"
     },
     "output_type": "display_data"
    }
   ],
   "source": [
    "fig, axes = plt.subplots(1,2,figsize=(15,6))\n",
    "\n",
    "ax1 = exp_age.sort_values(by=['age_group']).set_index('age_group').plot.bar(ax = axes[0])\n",
    "ax1.set_ylabel(\"Total Expenditure (in Million KRW)\")\n",
    "\n",
    "ax2 = exp_age_yr.groupby(['year','age_group']).\\\n",
    "                        total_exp.sum().\\\n",
    "                        unstack(0).plot.\\\n",
    "                        bar(ax = axes[1], color=['k','g'])\n",
    "ax2.set_ylabel(\"Total Expenditure (in Million KRW)\")"
   ]
  },
  {
   "cell_type": "markdown",
   "metadata": {},
   "source": [
    "From the visualization, people with older ages (40-80s) spend more money than the other age groups. This is may be possible due to the degrading health performance as people get older.\n",
    "\n",
    "Children spend more money also for medication than teenagers.\n",
    "\n",
    "In 2018, the expenditures on medicine of each group increases from 2017.\n"
   ]
  },
  {
   "cell_type": "markdown",
   "metadata": {},
   "source": [
    "#### Location"
   ]
  },
  {
   "cell_type": "code",
   "execution_count": 230,
   "metadata": {},
   "outputs": [],
   "source": [
    "exp_loc,exp_loc_yr =  create_df_per_year_cat(exp_df,['시도코드'],\\\n",
    "                                               F.sum,'Total_exp','Total_exp')"
   ]
  },
  {
   "cell_type": "code",
   "execution_count": null,
   "metadata": {},
   "outputs": [],
   "source": []
  },
  {
   "cell_type": "code",
   "execution_count": 232,
   "metadata": {
    "scrolled": false
   },
   "outputs": [
    {
     "data": {
      "text/html": [
       "<div>\n",
       "<style scoped>\n",
       "    .dataframe tbody tr th:only-of-type {\n",
       "        vertical-align: middle;\n",
       "    }\n",
       "\n",
       "    .dataframe tbody tr th {\n",
       "        vertical-align: top;\n",
       "    }\n",
       "\n",
       "    .dataframe thead th {\n",
       "        text-align: right;\n",
       "    }\n",
       "</style>\n",
       "<table border=\"1\" class=\"dataframe\">\n",
       "  <thead>\n",
       "    <tr style=\"text-align: right;\">\n",
       "      <th></th>\n",
       "      <th>시도코드</th>\n",
       "      <th>sum(Total_exp)</th>\n",
       "    </tr>\n",
       "  </thead>\n",
       "  <tbody>\n",
       "    <tr>\n",
       "      <th>0</th>\n",
       "      <td>11</td>\n",
       "      <td>8.809178e+10</td>\n",
       "    </tr>\n",
       "    <tr>\n",
       "      <th>1</th>\n",
       "      <td>29</td>\n",
       "      <td>1.301642e+10</td>\n",
       "    </tr>\n",
       "    <tr>\n",
       "      <th>2</th>\n",
       "      <td>42</td>\n",
       "      <td>1.650939e+10</td>\n",
       "    </tr>\n",
       "    <tr>\n",
       "      <th>3</th>\n",
       "      <td>30</td>\n",
       "      <td>1.335815e+10</td>\n",
       "    </tr>\n",
       "    <tr>\n",
       "      <th>4</th>\n",
       "      <td>28</td>\n",
       "      <td>2.665202e+10</td>\n",
       "    </tr>\n",
       "  </tbody>\n",
       "</table>\n",
       "</div>"
      ],
      "text/plain": [
       "  시도코드  sum(Total_exp)\n",
       "0   11    8.809178e+10\n",
       "1   29    1.301642e+10\n",
       "2   42    1.650939e+10\n",
       "3   30    1.335815e+10\n",
       "4   28    2.665202e+10"
      ]
     },
     "execution_count": 232,
     "metadata": {},
     "output_type": "execute_result"
    }
   ],
   "source": [
    "exp_loc.head()"
   ]
  },
  {
   "cell_type": "code",
   "execution_count": 233,
   "metadata": {},
   "outputs": [
    {
     "data": {
      "text/html": [
       "<div>\n",
       "<style scoped>\n",
       "    .dataframe tbody tr th:only-of-type {\n",
       "        vertical-align: middle;\n",
       "    }\n",
       "\n",
       "    .dataframe tbody tr th {\n",
       "        vertical-align: top;\n",
       "    }\n",
       "\n",
       "    .dataframe thead th {\n",
       "        text-align: right;\n",
       "    }\n",
       "</style>\n",
       "<table border=\"1\" class=\"dataframe\">\n",
       "  <thead>\n",
       "    <tr style=\"text-align: right;\">\n",
       "      <th></th>\n",
       "      <th>시도코드</th>\n",
       "      <th>year(요양개시일자)</th>\n",
       "      <th>sum(Total_exp)</th>\n",
       "    </tr>\n",
       "  </thead>\n",
       "  <tbody>\n",
       "    <tr>\n",
       "      <th>0</th>\n",
       "      <td>31</td>\n",
       "      <td>2018</td>\n",
       "      <td>4.781179e+09</td>\n",
       "    </tr>\n",
       "    <tr>\n",
       "      <th>1</th>\n",
       "      <td>44</td>\n",
       "      <td>2018</td>\n",
       "      <td>1.163344e+10</td>\n",
       "    </tr>\n",
       "    <tr>\n",
       "      <th>2</th>\n",
       "      <td>28</td>\n",
       "      <td>2017</td>\n",
       "      <td>1.282840e+10</td>\n",
       "    </tr>\n",
       "    <tr>\n",
       "      <th>3</th>\n",
       "      <td>27</td>\n",
       "      <td>2018</td>\n",
       "      <td>1.193982e+10</td>\n",
       "    </tr>\n",
       "    <tr>\n",
       "      <th>4</th>\n",
       "      <td>42</td>\n",
       "      <td>2018</td>\n",
       "      <td>8.689715e+09</td>\n",
       "    </tr>\n",
       "  </tbody>\n",
       "</table>\n",
       "</div>"
      ],
      "text/plain": [
       "  시도코드  year(요양개시일자)  sum(Total_exp)\n",
       "0   31          2018    4.781179e+09\n",
       "1   44          2018    1.163344e+10\n",
       "2   28          2017    1.282840e+10\n",
       "3   27          2018    1.193982e+10\n",
       "4   42          2018    8.689715e+09"
      ]
     },
     "execution_count": 233,
     "metadata": {},
     "output_type": "execute_result"
    }
   ],
   "source": [
    "exp_loc_yr.head()"
   ]
  },
  {
   "cell_type": "markdown",
   "metadata": {},
   "source": [
    "Again, we divide the total expenditure by 1 million and recode the group values."
   ]
  },
  {
   "cell_type": "code",
   "execution_count": 234,
   "metadata": {},
   "outputs": [],
   "source": [
    "exp_loc.columns=['location','total_exp']\n",
    "exp_loc = exp_loc.replace({'location':city_code})\n",
    "exp_loc.total_exp = exp_loc.total_exp / (1000 * 1000)\n",
    "exp_loc_yr.columns=['location','year','total_exp']\n",
    "exp_loc_yr = exp_loc_yr.replace({'location':city_code})\n",
    "exp_loc_yr.total_exp = exp_loc_yr.total_exp / (1000 * 1000)"
   ]
  },
  {
   "cell_type": "code",
   "execution_count": 237,
   "metadata": {
    "scrolled": true
   },
   "outputs": [
    {
     "data": {
      "text/plain": [
       "Text(0, 0.5, 'Total Expenditure (in Million KRW)')"
      ]
     },
     "execution_count": 237,
     "metadata": {},
     "output_type": "execute_result"
    },
    {
     "data": {
      "image/png": "[encoded data removed]",
      "text/plain": [
       "<Figure size 720x1440 with 2 Axes>"
      ]
     },
     "metadata": {
      "needs_background": "light"
     },
     "output_type": "display_data"
    }
   ],
   "source": [
    "fig, axes = plt.subplots(2,1,figsize=(10,20))\n",
    "\n",
    "exp_loc.set_index('location').plot.pie(y='total_exp', ax = axes[0])\n",
    "\n",
    "ax = exp_loc_yr.groupby(['year','location']).\\\n",
    "                        total_exp.sum().\\\n",
    "                        unstack(0).plot.\\\n",
    "                        bar(ax = axes[1], color=['k','g'])\n",
    "ax.set_ylabel(\"Total Expenditure (in Million KRW)\")"
   ]
  },
  {
   "cell_type": "markdown",
   "metadata": {},
   "source": [
    "From the visualization,  we see that Gyeonggi and Seoul hold the most expenditure for medicine. This is relatively linear to the number of population of each province in Korea per 2017 and 2018 (source: [2017](http://kostat.go.kr/portal/eng/pressReleases/8/7/index.board?bmode=read&aSeq=370993&pageNo=&rowNum=10&amSeq=&sTarget=&sTxt=), [2018](http://kostat.go.kr/portal/eng/pressReleases/8/7/index.board?bmode=read&aSeq=378503&pageNo=&rowNum=10&amSeq=&sTarget=&sTxt=)).\n",
    "It would be interesting to go deeper to see each age group average expenditure for each regions.\n",
    "However, it is beyond this analysis scope.\n",
    "\n",
    "In 2018, the expenditures on medicine of each group increases. It might be possible that there is an increase in the medicine price from 2017 to 2018."
   ]
  },
  {
   "cell_type": "markdown",
   "metadata": {},
   "source": [
    "### 2. Medicine Consumption Case\n",
    "\n",
    "Special for the medicine, it will be slightly different from the rest.\n",
    "The analysis will be mainly focus on the top 10 medicines and the other categories will be used as secondary axis."
   ]
  },
  {
   "cell_type": "code",
   "execution_count": 269,
   "metadata": {},
   "outputs": [],
   "source": [
    "cons, cons_yr = create_df_per_year_cat(cons_df,['약품일반성분명코드'],\\\n",
    "                                               F.sum,'consumption','consumption')"
   ]
  },
  {
   "cell_type": "code",
   "execution_count": 270,
   "metadata": {
    "scrolled": true
   },
   "outputs": [
    {
     "data": {
      "text/html": [
       "<div>\n",
       "<style scoped>\n",
       "    .dataframe tbody tr th:only-of-type {\n",
       "        vertical-align: middle;\n",
       "    }\n",
       "\n",
       "    .dataframe tbody tr th {\n",
       "        vertical-align: top;\n",
       "    }\n",
       "\n",
       "    .dataframe thead th {\n",
       "        text-align: right;\n",
       "    }\n",
       "</style>\n",
       "<table border=\"1\" class=\"dataframe\">\n",
       "  <thead>\n",
       "    <tr style=\"text-align: right;\">\n",
       "      <th></th>\n",
       "      <th>약품일반성분명코드</th>\n",
       "      <th>sum(consumption)</th>\n",
       "    </tr>\n",
       "  </thead>\n",
       "  <tbody>\n",
       "    <tr>\n",
       "      <th>0</th>\n",
       "      <td>421001ATB</td>\n",
       "      <td>3.281095e+07</td>\n",
       "    </tr>\n",
       "    <tr>\n",
       "      <th>1</th>\n",
       "      <td>111501ATB</td>\n",
       "      <td>2.185550e+07</td>\n",
       "    </tr>\n",
       "    <tr>\n",
       "      <th>2</th>\n",
       "      <td>101430ATR</td>\n",
       "      <td>1.998338e+07</td>\n",
       "    </tr>\n",
       "    <tr>\n",
       "      <th>3</th>\n",
       "      <td>438901ATB</td>\n",
       "      <td>3.251460e+07</td>\n",
       "    </tr>\n",
       "    <tr>\n",
       "      <th>4</th>\n",
       "      <td>186101ATB</td>\n",
       "      <td>2.332938e+07</td>\n",
       "    </tr>\n",
       "  </tbody>\n",
       "</table>\n",
       "</div>"
      ],
      "text/plain": [
       "   약품일반성분명코드  sum(consumption)\n",
       "0  421001ATB      3.281095e+07\n",
       "1  111501ATB      2.185550e+07\n",
       "2  101430ATR      1.998338e+07\n",
       "3  438901ATB      3.251460e+07\n",
       "4  186101ATB      2.332938e+07"
      ]
     },
     "execution_count": 270,
     "metadata": {},
     "output_type": "execute_result"
    }
   ],
   "source": [
    "cons.head()"
   ]
  },
  {
   "cell_type": "code",
   "execution_count": 271,
   "metadata": {
    "scrolled": true
   },
   "outputs": [
    {
     "data": {
      "text/html": [
       "<div>\n",
       "<style scoped>\n",
       "    .dataframe tbody tr th:only-of-type {\n",
       "        vertical-align: middle;\n",
       "    }\n",
       "\n",
       "    .dataframe tbody tr th {\n",
       "        vertical-align: top;\n",
       "    }\n",
       "\n",
       "    .dataframe thead th {\n",
       "        text-align: right;\n",
       "    }\n",
       "</style>\n",
       "<table border=\"1\" class=\"dataframe\">\n",
       "  <thead>\n",
       "    <tr style=\"text-align: right;\">\n",
       "      <th></th>\n",
       "      <th>약품일반성분명코드</th>\n",
       "      <th>year(요양개시일자)</th>\n",
       "      <th>sum(consumption)</th>\n",
       "    </tr>\n",
       "  </thead>\n",
       "  <tbody>\n",
       "    <tr>\n",
       "      <th>0</th>\n",
       "      <td>438901ATB</td>\n",
       "      <td>2017</td>\n",
       "      <td>1.638565e+07</td>\n",
       "    </tr>\n",
       "    <tr>\n",
       "      <th>1</th>\n",
       "      <td>530800ASY</td>\n",
       "      <td>2017</td>\n",
       "      <td>1.187300e+07</td>\n",
       "    </tr>\n",
       "    <tr>\n",
       "      <th>2</th>\n",
       "      <td>271800ATB</td>\n",
       "      <td>2017</td>\n",
       "      <td>1.212822e+07</td>\n",
       "    </tr>\n",
       "    <tr>\n",
       "      <th>3</th>\n",
       "      <td>222901ATB</td>\n",
       "      <td>2018</td>\n",
       "      <td>1.856737e+07</td>\n",
       "    </tr>\n",
       "    <tr>\n",
       "      <th>4</th>\n",
       "      <td>271800ATB</td>\n",
       "      <td>2018</td>\n",
       "      <td>1.355411e+07</td>\n",
       "    </tr>\n",
       "  </tbody>\n",
       "</table>\n",
       "</div>"
      ],
      "text/plain": [
       "   약품일반성분명코드  year(요양개시일자)  sum(consumption)\n",
       "0  438901ATB          2017      1.638565e+07\n",
       "1  530800ASY          2017      1.187300e+07\n",
       "2  271800ATB          2017      1.212822e+07\n",
       "3  222901ATB          2018      1.856737e+07\n",
       "4  271800ATB          2018      1.355411e+07"
      ]
     },
     "execution_count": 271,
     "metadata": {},
     "output_type": "execute_result"
    }
   ],
   "source": [
    "cons_yr.head()"
   ]
  },
  {
   "cell_type": "markdown",
   "metadata": {},
   "source": [
    "The total consumption is very large, I will divide them by 1 million to simplify the visualization."
   ]
  },
  {
   "cell_type": "code",
   "execution_count": 272,
   "metadata": {},
   "outputs": [],
   "source": [
    "cons.columns=['med_code','consumption']\n",
    "cons.consumption = cons.consumption / (1000 * 1000)\n",
    "cons_yr.columns=['med_code','year','consumption']\n",
    "cons_yr.consumption = cons_yr.consumption / (1000 * 1000)"
   ]
  },
  {
   "cell_type": "code",
   "execution_count": 274,
   "metadata": {
    "scrolled": false
   },
   "outputs": [
    {
     "data": {
      "text/plain": [
       "Text(0, 0.5, 'Total consumption (in Million)')"
      ]
     },
     "execution_count": 274,
     "metadata": {},
     "output_type": "execute_result"
    },
    {
     "data": {
      "image/png": "[encoded data removed]",
      "text/plain": [
       "<Figure size 720x1440 with 2 Axes>"
      ]
     },
     "metadata": {
      "needs_background": "light"
     },
     "output_type": "display_data"
    }
   ],
   "source": [
    "fig, axes = plt.subplots(2,1,figsize=(10,20))\n",
    "def show_percentage_and_total(pct, allvals):\n",
    "    absolute = int(pct/100.*np.sum(allvals))\n",
    "    return \"{:.1f}%\\n({:.0f} Million)\".format(pct, absolute)\n",
    "\n",
    "cons.set_index('med_code').plot.pie(y='consumption', ax = axes[0],\\\n",
    "                                    autopct=lambda pct:\\\n",
    "                                    show_percentage_and_total(pct,cons['consumption']),\n",
    "                         textprops=dict(color=\"w\"))\n",
    "\n",
    "ax = cons_yr.groupby(['year','med_code']).\\\n",
    "                        consumption.sum().\\\n",
    "                        unstack(0).plot.\\\n",
    "                        bar(ax = axes[1], color=['k','g'])\n",
    "ax.set_ylabel(\"Total consumption (in Million)\")"
   ]
  },
  {
   "cell_type": "markdown",
   "metadata": {},
   "source": [
    "From the visualization, we see that medicine '222901ATB' has the highest share of consumption by 13.6%.\n",
    "\n",
    "The medicine '530800ASY' has a significant increase from 2017 to 2018. On the other hand, the consumption of medicine '532600ASY' drastically decreases from 2017 to 2018.\n",
    "\n",
    "Let's see the exact number of the increase and decrease of each medicine consumption."
   ]
  },
  {
   "cell_type": "code",
   "execution_count": 278,
   "metadata": {
    "scrolled": true
   },
   "outputs": [
    {
     "data": {
      "text/plain": [
       "med_code\n",
       "101430ATR   -0.031519\n",
       "111501ATB    0.361447\n",
       "186101ATB    1.014296\n",
       "222901ATB    0.908563\n",
       "271800ATB    1.425896\n",
       "421001ATB    0.712456\n",
       "438901ATB   -0.256698\n",
       "530800ASY    2.170240\n",
       "532600ASY   -8.370962\n",
       "535000ASY   -0.172462\n",
       "dtype: float64"
      ]
     },
     "execution_count": 278,
     "metadata": {},
     "output_type": "execute_result"
    }
   ],
   "source": [
    "cons_yr_unstacked = cons_yr.groupby(['year','med_code']).\\\n",
    "                        consumption.sum().\\\n",
    "                        unstack(0)\n",
    "cons_yr_unstacked[2018] - cons_yr_unstacked[2017]"
   ]
  },
  {
   "cell_type": "markdown",
   "metadata": {},
   "source": [
    "The medicine '530800ASY' has highest increase by 2 million consumption while the consumption of medicine '532600ASY' has the highest decrease by 8 million."
   ]
  },
  {
   "cell_type": "markdown",
   "metadata": {},
   "source": [
    "#### Gender\n"
   ]
  },
  {
   "cell_type": "code",
   "execution_count": 280,
   "metadata": {},
   "outputs": [],
   "source": [
    "cons_gender,_ =  create_df_per_year_cat(cons_df,['약품일반성분명코드','성별코드'],\\\n",
    "                                               F.sum,'consumption','consumption')"
   ]
  },
  {
   "cell_type": "code",
   "execution_count": 281,
   "metadata": {
    "scrolled": false
   },
   "outputs": [
    {
     "data": {
      "text/html": [
       "<div>\n",
       "<style scoped>\n",
       "    .dataframe tbody tr th:only-of-type {\n",
       "        vertical-align: middle;\n",
       "    }\n",
       "\n",
       "    .dataframe tbody tr th {\n",
       "        vertical-align: top;\n",
       "    }\n",
       "\n",
       "    .dataframe thead th {\n",
       "        text-align: right;\n",
       "    }\n",
       "</style>\n",
       "<table border=\"1\" class=\"dataframe\">\n",
       "  <thead>\n",
       "    <tr style=\"text-align: right;\">\n",
       "      <th></th>\n",
       "      <th>약품일반성분명코드</th>\n",
       "      <th>성별코드</th>\n",
       "      <th>sum(consumption)</th>\n",
       "    </tr>\n",
       "  </thead>\n",
       "  <tbody>\n",
       "    <tr>\n",
       "      <th>0</th>\n",
       "      <td>438901ATB</td>\n",
       "      <td>2</td>\n",
       "      <td>1.770662e+07</td>\n",
       "    </tr>\n",
       "    <tr>\n",
       "      <th>1</th>\n",
       "      <td>421001ATB</td>\n",
       "      <td>1</td>\n",
       "      <td>1.342240e+07</td>\n",
       "    </tr>\n",
       "    <tr>\n",
       "      <th>2</th>\n",
       "      <td>421001ATB</td>\n",
       "      <td>2</td>\n",
       "      <td>1.938855e+07</td>\n",
       "    </tr>\n",
       "    <tr>\n",
       "      <th>3</th>\n",
       "      <td>530800ASY</td>\n",
       "      <td>2</td>\n",
       "      <td>1.225358e+07</td>\n",
       "    </tr>\n",
       "    <tr>\n",
       "      <th>4</th>\n",
       "      <td>186101ATB</td>\n",
       "      <td>1</td>\n",
       "      <td>1.042184e+07</td>\n",
       "    </tr>\n",
       "    <tr>\n",
       "      <th>5</th>\n",
       "      <td>186101ATB</td>\n",
       "      <td>2</td>\n",
       "      <td>1.290754e+07</td>\n",
       "    </tr>\n",
       "    <tr>\n",
       "      <th>6</th>\n",
       "      <td>535000ASY</td>\n",
       "      <td>1</td>\n",
       "      <td>1.373938e+07</td>\n",
       "    </tr>\n",
       "    <tr>\n",
       "      <th>7</th>\n",
       "      <td>222901ATB</td>\n",
       "      <td>2</td>\n",
       "      <td>2.078246e+07</td>\n",
       "    </tr>\n",
       "    <tr>\n",
       "      <th>8</th>\n",
       "      <td>111501ATB</td>\n",
       "      <td>2</td>\n",
       "      <td>1.233080e+07</td>\n",
       "    </tr>\n",
       "    <tr>\n",
       "      <th>9</th>\n",
       "      <td>535000ASY</td>\n",
       "      <td>2</td>\n",
       "      <td>1.182478e+07</td>\n",
       "    </tr>\n",
       "    <tr>\n",
       "      <th>10</th>\n",
       "      <td>532600ASY</td>\n",
       "      <td>1</td>\n",
       "      <td>9.563557e+06</td>\n",
       "    </tr>\n",
       "    <tr>\n",
       "      <th>11</th>\n",
       "      <td>532600ASY</td>\n",
       "      <td>2</td>\n",
       "      <td>1.319099e+07</td>\n",
       "    </tr>\n",
       "    <tr>\n",
       "      <th>12</th>\n",
       "      <td>101430ATR</td>\n",
       "      <td>1</td>\n",
       "      <td>7.599611e+06</td>\n",
       "    </tr>\n",
       "    <tr>\n",
       "      <th>13</th>\n",
       "      <td>271800ATB</td>\n",
       "      <td>1</td>\n",
       "      <td>1.093227e+07</td>\n",
       "    </tr>\n",
       "    <tr>\n",
       "      <th>14</th>\n",
       "      <td>530800ASY</td>\n",
       "      <td>1</td>\n",
       "      <td>1.366267e+07</td>\n",
       "    </tr>\n",
       "    <tr>\n",
       "      <th>15</th>\n",
       "      <td>222901ATB</td>\n",
       "      <td>1</td>\n",
       "      <td>1.544371e+07</td>\n",
       "    </tr>\n",
       "    <tr>\n",
       "      <th>16</th>\n",
       "      <td>271800ATB</td>\n",
       "      <td>2</td>\n",
       "      <td>1.475006e+07</td>\n",
       "    </tr>\n",
       "    <tr>\n",
       "      <th>17</th>\n",
       "      <td>101430ATR</td>\n",
       "      <td>2</td>\n",
       "      <td>1.238377e+07</td>\n",
       "    </tr>\n",
       "    <tr>\n",
       "      <th>18</th>\n",
       "      <td>111501ATB</td>\n",
       "      <td>1</td>\n",
       "      <td>9.524693e+06</td>\n",
       "    </tr>\n",
       "    <tr>\n",
       "      <th>19</th>\n",
       "      <td>438901ATB</td>\n",
       "      <td>1</td>\n",
       "      <td>1.480797e+07</td>\n",
       "    </tr>\n",
       "  </tbody>\n",
       "</table>\n",
       "</div>"
      ],
      "text/plain": [
       "    약품일반성분명코드  성별코드  sum(consumption)\n",
       "0   438901ATB     2      1.770662e+07\n",
       "1   421001ATB     1      1.342240e+07\n",
       "2   421001ATB     2      1.938855e+07\n",
       "3   530800ASY     2      1.225358e+07\n",
       "4   186101ATB     1      1.042184e+07\n",
       "5   186101ATB     2      1.290754e+07\n",
       "6   535000ASY     1      1.373938e+07\n",
       "7   222901ATB     2      2.078246e+07\n",
       "8   111501ATB     2      1.233080e+07\n",
       "9   535000ASY     2      1.182478e+07\n",
       "10  532600ASY     1      9.563557e+06\n",
       "11  532600ASY     2      1.319099e+07\n",
       "12  101430ATR     1      7.599611e+06\n",
       "13  271800ATB     1      1.093227e+07\n",
       "14  530800ASY     1      1.366267e+07\n",
       "15  222901ATB     1      1.544371e+07\n",
       "16  271800ATB     2      1.475006e+07\n",
       "17  101430ATR     2      1.238377e+07\n",
       "18  111501ATB     1      9.524693e+06\n",
       "19  438901ATB     1      1.480797e+07"
      ]
     },
     "execution_count": 281,
     "metadata": {},
     "output_type": "execute_result"
    }
   ],
   "source": [
    "cons_gender"
   ]
  },
  {
   "cell_type": "markdown",
   "metadata": {},
   "source": [
    "Again, simplifying the numbers and recoding the values"
   ]
  },
  {
   "cell_type": "code",
   "execution_count": 282,
   "metadata": {},
   "outputs": [],
   "source": [
    "cons_gender.columns=['med_code','gender','consumption']\n",
    "cons_gender.consumption = cons_gender.consumption / (1000 * 1000)\n",
    "cons_gender = cons_gender.replace({'gender':gender_code})"
   ]
  },
  {
   "cell_type": "code",
   "execution_count": 284,
   "metadata": {},
   "outputs": [
    {
     "data": {
      "text/html": [
       "<div>\n",
       "<style scoped>\n",
       "    .dataframe tbody tr th:only-of-type {\n",
       "        vertical-align: middle;\n",
       "    }\n",
       "\n",
       "    .dataframe tbody tr th {\n",
       "        vertical-align: top;\n",
       "    }\n",
       "\n",
       "    .dataframe thead th {\n",
       "        text-align: right;\n",
       "    }\n",
       "</style>\n",
       "<table border=\"1\" class=\"dataframe\">\n",
       "  <thead>\n",
       "    <tr style=\"text-align: right;\">\n",
       "      <th></th>\n",
       "      <th>med_code</th>\n",
       "      <th>gender</th>\n",
       "      <th>consumption</th>\n",
       "    </tr>\n",
       "  </thead>\n",
       "  <tbody>\n",
       "    <tr>\n",
       "      <th>0</th>\n",
       "      <td>438901ATB</td>\n",
       "      <td>female</td>\n",
       "      <td>17.706623</td>\n",
       "    </tr>\n",
       "    <tr>\n",
       "      <th>1</th>\n",
       "      <td>421001ATB</td>\n",
       "      <td>male</td>\n",
       "      <td>13.422401</td>\n",
       "    </tr>\n",
       "    <tr>\n",
       "      <th>2</th>\n",
       "      <td>421001ATB</td>\n",
       "      <td>female</td>\n",
       "      <td>19.388550</td>\n",
       "    </tr>\n",
       "    <tr>\n",
       "      <th>3</th>\n",
       "      <td>530800ASY</td>\n",
       "      <td>female</td>\n",
       "      <td>12.253582</td>\n",
       "    </tr>\n",
       "    <tr>\n",
       "      <th>4</th>\n",
       "      <td>186101ATB</td>\n",
       "      <td>male</td>\n",
       "      <td>10.421843</td>\n",
       "    </tr>\n",
       "  </tbody>\n",
       "</table>\n",
       "</div>"
      ],
      "text/plain": [
       "    med_code  gender  consumption\n",
       "0  438901ATB  female    17.706623\n",
       "1  421001ATB    male    13.422401\n",
       "2  421001ATB  female    19.388550\n",
       "3  530800ASY  female    12.253582\n",
       "4  186101ATB    male    10.421843"
      ]
     },
     "execution_count": 284,
     "metadata": {},
     "output_type": "execute_result"
    }
   ],
   "source": [
    "cons_gender.head()"
   ]
  },
  {
   "cell_type": "code",
   "execution_count": 291,
   "metadata": {
    "scrolled": true
   },
   "outputs": [
    {
     "data": {
      "text/plain": [
       "Text(0, 0.5, 'Total Consumption (in Million)')"
      ]
     },
     "execution_count": 291,
     "metadata": {},
     "output_type": "execute_result"
    },
    {
     "data": {
      "image/png": "[encoded data removed]",
      "text/plain": [
       "<Figure size 720x360 with 1 Axes>"
      ]
     },
     "metadata": {
      "needs_background": "light"
     },
     "output_type": "display_data"
    }
   ],
   "source": [
    "ax = cons_gender.groupby(['gender','med_code']).\\\n",
    "                        consumption.sum().\\\n",
    "                        unstack(0).plot.\\\n",
    "                        bar(rot=45, color=['k','g'],figsize=(10,5))\n",
    "ax.set_ylabel(\"Total Consumption (in Million)\")"
   ]
  },
  {
   "cell_type": "markdown",
   "metadata": {},
   "source": [
    "From the visualization, for the most top consumed medicines, females consumes more medication than the males. However, the males consumes medicine '530800ASY' and '535000ASY' more."
   ]
  },
  {
   "cell_type": "markdown",
   "metadata": {},
   "source": [
    "#### Age group"
   ]
  },
  {
   "cell_type": "code",
   "execution_count": 308,
   "metadata": {},
   "outputs": [],
   "source": [
    "cons_age, _ = create_df_per_year_cat(cons_df,['약품일반성분명코드','연령대코드'],\\\n",
    "                                               F.sum,'consumption','consumption')"
   ]
  },
  {
   "cell_type": "code",
   "execution_count": 309,
   "metadata": {
    "scrolled": false
   },
   "outputs": [
    {
     "data": {
      "text/html": [
       "<div>\n",
       "<style scoped>\n",
       "    .dataframe tbody tr th:only-of-type {\n",
       "        vertical-align: middle;\n",
       "    }\n",
       "\n",
       "    .dataframe tbody tr th {\n",
       "        vertical-align: top;\n",
       "    }\n",
       "\n",
       "    .dataframe thead th {\n",
       "        text-align: right;\n",
       "    }\n",
       "</style>\n",
       "<table border=\"1\" class=\"dataframe\">\n",
       "  <thead>\n",
       "    <tr style=\"text-align: right;\">\n",
       "      <th></th>\n",
       "      <th>약품일반성분명코드</th>\n",
       "      <th>연령대코드</th>\n",
       "      <th>sum(consumption)</th>\n",
       "    </tr>\n",
       "  </thead>\n",
       "  <tbody>\n",
       "    <tr>\n",
       "      <th>0</th>\n",
       "      <td>438901ATB</td>\n",
       "      <td>2</td>\n",
       "      <td>1.516813e+06</td>\n",
       "    </tr>\n",
       "    <tr>\n",
       "      <th>1</th>\n",
       "      <td>421001ATB</td>\n",
       "      <td>13</td>\n",
       "      <td>3.698511e+06</td>\n",
       "    </tr>\n",
       "    <tr>\n",
       "      <th>2</th>\n",
       "      <td>532600ASY</td>\n",
       "      <td>4</td>\n",
       "      <td>5.669760e+05</td>\n",
       "    </tr>\n",
       "    <tr>\n",
       "      <th>3</th>\n",
       "      <td>186101ATB</td>\n",
       "      <td>6</td>\n",
       "      <td>1.173321e+06</td>\n",
       "    </tr>\n",
       "    <tr>\n",
       "      <th>4</th>\n",
       "      <td>530800ASY</td>\n",
       "      <td>18</td>\n",
       "      <td>9.611000e+03</td>\n",
       "    </tr>\n",
       "  </tbody>\n",
       "</table>\n",
       "</div>"
      ],
      "text/plain": [
       "   약품일반성분명코드  연령대코드  sum(consumption)\n",
       "0  438901ATB      2      1.516813e+06\n",
       "1  421001ATB     13      3.698511e+06\n",
       "2  532600ASY      4      5.669760e+05\n",
       "3  186101ATB      6      1.173321e+06\n",
       "4  530800ASY     18      9.611000e+03"
      ]
     },
     "execution_count": 309,
     "metadata": {},
     "output_type": "execute_result"
    }
   ],
   "source": [
    "cons_age.head()"
   ]
  },
  {
   "cell_type": "markdown",
   "metadata": {},
   "source": [
    "The consumption for each age group is not very large. Let's divide the consumption by 1 thousand and recode the group values."
   ]
  },
  {
   "cell_type": "code",
   "execution_count": 310,
   "metadata": {},
   "outputs": [],
   "source": [
    "cons_age.columns=['med_code','age_group','consumption']\n",
    "cons_age = cons_age.replace({'age_group':age_code})\n",
    "cons_age.consumption = cons_age.consumption / (1000)"
   ]
  },
  {
   "cell_type": "code",
   "execution_count": 299,
   "metadata": {},
   "outputs": [],
   "source": [
    "med_list = cons_age.med_code.unique().tolist()"
   ]
  },
  {
   "cell_type": "code",
   "execution_count": 319,
   "metadata": {
    "scrolled": true
   },
   "outputs": [
    {
     "data": {
      "image/png": "[encoded data removed]",
      "text/plain": [
       "<Figure size 1080x5400 with 10 Axes>"
      ]
     },
     "metadata": {
      "needs_background": "light"
     },
     "output_type": "display_data"
    }
   ],
   "source": [
    "fig, axes = plt.subplots(10,1,figsize=(15,75))\n",
    "\n",
    "for i in range(len(med_list)):\n",
    "    cons_age_v = cons_age[cons_age['med_code'] ==  med_list[i]]\n",
    "    ax1 = cons_age_v.sort_values(by=['age_group']).set_index('age_group').plot.bar(ax = axes[i])\n",
    "    ax1.set_ylabel(\"Total consumption (in thousands)\")\n",
    "    ax1.set_title(med_list[i])"
   ]
  },
  {
   "cell_type": "markdown",
   "metadata": {},
   "source": [
    "From the age group visualization, some age group has more tendencies to consume a specific medicine.\n",
    "- medicine 438901ATB: more likely consumed by older people, but children and teenagers also consume them\n",
    "- medicine 421001ATB: more likely consumed by older people, but children does not consume them\n",
    "- medicine 532600ASY: mostly consumed by children\n",
    "- medicine 186101ATB: normally distributed, more likely consumed by people in 50s\n",
    "- medicine 530800ASY: mostly (or only) consumed by children\n",
    "- medicine 111501ATB: mostly (or only) consumed by adults where age group 60s mostly consume them\n",
    "- medicine 222901ATB: similar to 111501ATB, mostly (or only) consumed by adults where age group 60s mostly consume them. But, a small group of teenagers seemed to consume them\n",
    "- medicine 535000ASY: mostly (or only) consumed by children\n",
    "- medicine 271800ATB: similar to 111501ATB, mostly (or only) consumed by adults where age group 60s mostly consume them. But, a small group of teenagers seemed to consume them\n",
    "- medicine 222901ATR: similar to 111501ATB, mostly (or only) consumed by adults where age group 60s mostly consume them. But, a small group of teenagers seemed to consume them\n"
   ]
  },
  {
   "cell_type": "markdown",
   "metadata": {},
   "source": [
    "The medicines with the same last three letter code show the similarity of the medicine consumption. The medicine whose codes ending with 'ATB' is more likely to be consumed by adult and the ones whose codes ending with ASY is more likely to be consumed by children."
   ]
  },
  {
   "cell_type": "markdown",
   "metadata": {},
   "source": [
    "#### Location"
   ]
  },
  {
   "cell_type": "code",
   "execution_count": 320,
   "metadata": {},
   "outputs": [],
   "source": [
    "cons_loc,_ =  create_df_per_year_cat(cons_df,['약품일반성분명코드','시도코드'],\\\n",
    "                                               F.sum,'consumption','consumption')"
   ]
  },
  {
   "cell_type": "code",
   "execution_count": 321,
   "metadata": {
    "scrolled": false
   },
   "outputs": [
    {
     "data": {
      "text/html": [
       "<div>\n",
       "<style scoped>\n",
       "    .dataframe tbody tr th:only-of-type {\n",
       "        vertical-align: middle;\n",
       "    }\n",
       "\n",
       "    .dataframe tbody tr th {\n",
       "        vertical-align: top;\n",
       "    }\n",
       "\n",
       "    .dataframe thead th {\n",
       "        text-align: right;\n",
       "    }\n",
       "</style>\n",
       "<table border=\"1\" class=\"dataframe\">\n",
       "  <thead>\n",
       "    <tr style=\"text-align: right;\">\n",
       "      <th></th>\n",
       "      <th>약품일반성분명코드</th>\n",
       "      <th>시도코드</th>\n",
       "      <th>sum(consumption)</th>\n",
       "    </tr>\n",
       "  </thead>\n",
       "  <tbody>\n",
       "    <tr>\n",
       "      <th>0</th>\n",
       "      <td>101430ATR</td>\n",
       "      <td>30</td>\n",
       "      <td>5.984725e+05</td>\n",
       "    </tr>\n",
       "    <tr>\n",
       "      <th>1</th>\n",
       "      <td>535000ASY</td>\n",
       "      <td>44</td>\n",
       "      <td>1.308857e+06</td>\n",
       "    </tr>\n",
       "    <tr>\n",
       "      <th>2</th>\n",
       "      <td>222901ATB</td>\n",
       "      <td>48</td>\n",
       "      <td>2.289334e+06</td>\n",
       "    </tr>\n",
       "    <tr>\n",
       "      <th>3</th>\n",
       "      <td>101430ATR</td>\n",
       "      <td>26</td>\n",
       "      <td>1.378934e+06</td>\n",
       "    </tr>\n",
       "    <tr>\n",
       "      <th>4</th>\n",
       "      <td>535000ASY</td>\n",
       "      <td>30</td>\n",
       "      <td>7.639538e+05</td>\n",
       "    </tr>\n",
       "  </tbody>\n",
       "</table>\n",
       "</div>"
      ],
      "text/plain": [
       "   약품일반성분명코드 시도코드  sum(consumption)\n",
       "0  101430ATR   30      5.984725e+05\n",
       "1  535000ASY   44      1.308857e+06\n",
       "2  222901ATB   48      2.289334e+06\n",
       "3  101430ATR   26      1.378934e+06\n",
       "4  535000ASY   30      7.639538e+05"
      ]
     },
     "execution_count": 321,
     "metadata": {},
     "output_type": "execute_result"
    }
   ],
   "source": [
    "cons_loc.head()"
   ]
  },
  {
   "cell_type": "code",
   "execution_count": 233,
   "metadata": {},
   "outputs": [
    {
     "data": {
      "text/html": [
       "<div>\n",
       "<style scoped>\n",
       "    .dataframe tbody tr th:only-of-type {\n",
       "        vertical-align: middle;\n",
       "    }\n",
       "\n",
       "    .dataframe tbody tr th {\n",
       "        vertical-align: top;\n",
       "    }\n",
       "\n",
       "    .dataframe thead th {\n",
       "        text-align: right;\n",
       "    }\n",
       "</style>\n",
       "<table border=\"1\" class=\"dataframe\">\n",
       "  <thead>\n",
       "    <tr style=\"text-align: right;\">\n",
       "      <th></th>\n",
       "      <th>시도코드</th>\n",
       "      <th>year(요양개시일자)</th>\n",
       "      <th>sum(Total_exp)</th>\n",
       "    </tr>\n",
       "  </thead>\n",
       "  <tbody>\n",
       "    <tr>\n",
       "      <th>0</th>\n",
       "      <td>31</td>\n",
       "      <td>2018</td>\n",
       "      <td>4.781179e+09</td>\n",
       "    </tr>\n",
       "    <tr>\n",
       "      <th>1</th>\n",
       "      <td>44</td>\n",
       "      <td>2018</td>\n",
       "      <td>1.163344e+10</td>\n",
       "    </tr>\n",
       "    <tr>\n",
       "      <th>2</th>\n",
       "      <td>28</td>\n",
       "      <td>2017</td>\n",
       "      <td>1.282840e+10</td>\n",
       "    </tr>\n",
       "    <tr>\n",
       "      <th>3</th>\n",
       "      <td>27</td>\n",
       "      <td>2018</td>\n",
       "      <td>1.193982e+10</td>\n",
       "    </tr>\n",
       "    <tr>\n",
       "      <th>4</th>\n",
       "      <td>42</td>\n",
       "      <td>2018</td>\n",
       "      <td>8.689715e+09</td>\n",
       "    </tr>\n",
       "  </tbody>\n",
       "</table>\n",
       "</div>"
      ],
      "text/plain": [
       "  시도코드  year(요양개시일자)  sum(Total_exp)\n",
       "0   31          2018    4.781179e+09\n",
       "1   44          2018    1.163344e+10\n",
       "2   28          2017    1.282840e+10\n",
       "3   27          2018    1.193982e+10\n",
       "4   42          2018    8.689715e+09"
      ]
     },
     "execution_count": 233,
     "metadata": {},
     "output_type": "execute_result"
    }
   ],
   "source": [
    "exp_loc_yr.head()"
   ]
  },
  {
   "cell_type": "markdown",
   "metadata": {},
   "source": [
    "Again, we divide the total expenditure by 1 million and recode the group values."
   ]
  },
  {
   "cell_type": "code",
   "execution_count": 322,
   "metadata": {},
   "outputs": [],
   "source": [
    "cons_loc.columns=['med_code','location','consumption']\n",
    "cons_loc = cons_loc.replace({'location':city_code})\n",
    "cons_loc.consumption = cons_loc.consumption / (1000 * 1000)"
   ]
  },
  {
   "cell_type": "code",
   "execution_count": 323,
   "metadata": {
    "scrolled": false
   },
   "outputs": [
    {
     "data": {
      "text/html": [
       "<div>\n",
       "<style scoped>\n",
       "    .dataframe tbody tr th:only-of-type {\n",
       "        vertical-align: middle;\n",
       "    }\n",
       "\n",
       "    .dataframe tbody tr th {\n",
       "        vertical-align: top;\n",
       "    }\n",
       "\n",
       "    .dataframe thead th {\n",
       "        text-align: right;\n",
       "    }\n",
       "</style>\n",
       "<table border=\"1\" class=\"dataframe\">\n",
       "  <thead>\n",
       "    <tr style=\"text-align: right;\">\n",
       "      <th></th>\n",
       "      <th>med_code</th>\n",
       "      <th>location</th>\n",
       "      <th>consumption</th>\n",
       "    </tr>\n",
       "  </thead>\n",
       "  <tbody>\n",
       "    <tr>\n",
       "      <th>0</th>\n",
       "      <td>101430ATR</td>\n",
       "      <td>Daejeon</td>\n",
       "      <td>0.598473</td>\n",
       "    </tr>\n",
       "    <tr>\n",
       "      <th>1</th>\n",
       "      <td>535000ASY</td>\n",
       "      <td>Chungcheongnam-do</td>\n",
       "      <td>1.308857</td>\n",
       "    </tr>\n",
       "    <tr>\n",
       "      <th>2</th>\n",
       "      <td>222901ATB</td>\n",
       "      <td>Gyeongsangnam-do</td>\n",
       "      <td>2.289334</td>\n",
       "    </tr>\n",
       "    <tr>\n",
       "      <th>3</th>\n",
       "      <td>101430ATR</td>\n",
       "      <td>Busan</td>\n",
       "      <td>1.378934</td>\n",
       "    </tr>\n",
       "    <tr>\n",
       "      <th>4</th>\n",
       "      <td>535000ASY</td>\n",
       "      <td>Daejeon</td>\n",
       "      <td>0.763954</td>\n",
       "    </tr>\n",
       "    <tr>\n",
       "      <th>...</th>\n",
       "      <td>...</td>\n",
       "      <td>...</td>\n",
       "      <td>...</td>\n",
       "    </tr>\n",
       "    <tr>\n",
       "      <th>165</th>\n",
       "      <td>111501ATB</td>\n",
       "      <td>Busan</td>\n",
       "      <td>1.385928</td>\n",
       "    </tr>\n",
       "    <tr>\n",
       "      <th>166</th>\n",
       "      <td>530800ASY</td>\n",
       "      <td>Daegu</td>\n",
       "      <td>1.979616</td>\n",
       "    </tr>\n",
       "    <tr>\n",
       "      <th>167</th>\n",
       "      <td>421001ATB</td>\n",
       "      <td>Jeollanam-do</td>\n",
       "      <td>1.696570</td>\n",
       "    </tr>\n",
       "    <tr>\n",
       "      <th>168</th>\n",
       "      <td>222901ATB</td>\n",
       "      <td>Chungcheongbuk-do</td>\n",
       "      <td>1.216875</td>\n",
       "    </tr>\n",
       "    <tr>\n",
       "      <th>169</th>\n",
       "      <td>532600ASY</td>\n",
       "      <td>Jeju</td>\n",
       "      <td>0.305595</td>\n",
       "    </tr>\n",
       "  </tbody>\n",
       "</table>\n",
       "<p>170 rows × 3 columns</p>\n",
       "</div>"
      ],
      "text/plain": [
       "      med_code           location  consumption\n",
       "0    101430ATR            Daejeon     0.598473\n",
       "1    535000ASY  Chungcheongnam-do     1.308857\n",
       "2    222901ATB   Gyeongsangnam-do     2.289334\n",
       "3    101430ATR              Busan     1.378934\n",
       "4    535000ASY            Daejeon     0.763954\n",
       "..         ...                ...          ...\n",
       "165  111501ATB              Busan     1.385928\n",
       "166  530800ASY              Daegu     1.979616\n",
       "167  421001ATB       Jeollanam-do     1.696570\n",
       "168  222901ATB  Chungcheongbuk-do     1.216875\n",
       "169  532600ASY               Jeju     0.305595\n",
       "\n",
       "[170 rows x 3 columns]"
      ]
     },
     "execution_count": 323,
     "metadata": {},
     "output_type": "execute_result"
    }
   ],
   "source": [
    "cons_loc"
   ]
  },
  {
   "cell_type": "code",
   "execution_count": 362,
   "metadata": {},
   "outputs": [],
   "source": [
    "cons_loc_unstacked = cons_loc.groupby(['med_code','location']).\\\n",
    "                        consumption.sum().\\\n",
    "                        unstack(0)"
   ]
  },
  {
   "cell_type": "code",
   "execution_count": 363,
   "metadata": {},
   "outputs": [
    {
     "data": {
      "text/plain": [
       "location\n",
       "Busan                421001ATB\n",
       "Chungcheongbuk-do    421001ATB\n",
       "Chungcheongnam-do    438901ATB\n",
       "Daegu                530800ASY\n",
       "Daejeon              438901ATB\n",
       "Gangwon-do           222901ATB\n",
       "Gwangju              222901ATB\n",
       "Gyeongggi-do         438901ATB\n",
       "Gyeongsangbuk-do     222901ATB\n",
       "Gyeongsangnam-do     421001ATB\n",
       "Incheon              438901ATB\n",
       "Jeju                 222901ATB\n",
       "Jeollabuk-do         222901ATB\n",
       "Jeollanam-do         222901ATB\n",
       "Sejong               530800ASY\n",
       "Seoul                222901ATB\n",
       "Ulsan                530800ASY\n",
       "dtype: object"
      ]
     },
     "execution_count": 363,
     "metadata": {},
     "output_type": "execute_result"
    }
   ],
   "source": [
    "cons_loc_unstacked.idxmax(axis=1)"
   ]
  },
  {
   "cell_type": "markdown",
   "metadata": {},
   "source": [
    "From the analysis above, we see that each region has its own most consumed medicine.\n",
    "- 421001ATB: Busan, Chungcheongbuk-do, Gyeongsangnam-do\n",
    "- 438901ATB: Chungcheongnam-do, Daejeon, Gyeonggi-do, Incheon\n",
    "- 530800ASY: Daegu, Sejong, Ulsan\n",
    "- 222901ATB: Gangwon, Gwangju, Gyeongsangbuk-do, Jeju, Jeollabuk-do,Jeollanam-do, Seoul"
   ]
  },
  {
   "cell_type": "markdown",
   "metadata": {},
   "source": [
    "### 3. Medication Days Case\n",
    "\n"
   ]
  },
  {
   "cell_type": "code",
   "execution_count": 364,
   "metadata": {},
   "outputs": [],
   "source": [
    "med_month, med_month_yr = create_df_per_year_cat(meds_df,[F.month('요양개시일자')],\\\n",
    "                                               F.max,'Med_days','Med_days')"
   ]
  },
  {
   "cell_type": "code",
   "execution_count": 365,
   "metadata": {
    "scrolled": true
   },
   "outputs": [
    {
     "data": {
      "text/html": [
       "<div>\n",
       "<style scoped>\n",
       "    .dataframe tbody tr th:only-of-type {\n",
       "        vertical-align: middle;\n",
       "    }\n",
       "\n",
       "    .dataframe tbody tr th {\n",
       "        vertical-align: top;\n",
       "    }\n",
       "\n",
       "    .dataframe thead th {\n",
       "        text-align: right;\n",
       "    }\n",
       "</style>\n",
       "<table border=\"1\" class=\"dataframe\">\n",
       "  <thead>\n",
       "    <tr style=\"text-align: right;\">\n",
       "      <th></th>\n",
       "      <th>month(요양개시일자)</th>\n",
       "      <th>max(Med_days)</th>\n",
       "    </tr>\n",
       "  </thead>\n",
       "  <tbody>\n",
       "    <tr>\n",
       "      <th>0</th>\n",
       "      <td>12</td>\n",
       "      <td>450.0</td>\n",
       "    </tr>\n",
       "    <tr>\n",
       "      <th>1</th>\n",
       "      <td>1</td>\n",
       "      <td>600.0</td>\n",
       "    </tr>\n",
       "    <tr>\n",
       "      <th>2</th>\n",
       "      <td>6</td>\n",
       "      <td>728.0</td>\n",
       "    </tr>\n",
       "    <tr>\n",
       "      <th>3</th>\n",
       "      <td>3</td>\n",
       "      <td>840.0</td>\n",
       "    </tr>\n",
       "    <tr>\n",
       "      <th>4</th>\n",
       "      <td>5</td>\n",
       "      <td>750.0</td>\n",
       "    </tr>\n",
       "  </tbody>\n",
       "</table>\n",
       "</div>"
      ],
      "text/plain": [
       "   month(요양개시일자)  max(Med_days)\n",
       "0             12          450.0\n",
       "1              1          600.0\n",
       "2              6          728.0\n",
       "3              3          840.0\n",
       "4              5          750.0"
      ]
     },
     "execution_count": 365,
     "metadata": {},
     "output_type": "execute_result"
    }
   ],
   "source": [
    "med_month.head()"
   ]
  },
  {
   "cell_type": "code",
   "execution_count": 366,
   "metadata": {
    "scrolled": true
   },
   "outputs": [
    {
     "data": {
      "text/html": [
       "<div>\n",
       "<style scoped>\n",
       "    .dataframe tbody tr th:only-of-type {\n",
       "        vertical-align: middle;\n",
       "    }\n",
       "\n",
       "    .dataframe tbody tr th {\n",
       "        vertical-align: top;\n",
       "    }\n",
       "\n",
       "    .dataframe thead th {\n",
       "        text-align: right;\n",
       "    }\n",
       "</style>\n",
       "<table border=\"1\" class=\"dataframe\">\n",
       "  <thead>\n",
       "    <tr style=\"text-align: right;\">\n",
       "      <th></th>\n",
       "      <th>month(요양개시일자)</th>\n",
       "      <th>year(요양개시일자)</th>\n",
       "      <th>max(Med_days)</th>\n",
       "    </tr>\n",
       "  </thead>\n",
       "  <tbody>\n",
       "    <tr>\n",
       "      <th>0</th>\n",
       "      <td>7</td>\n",
       "      <td>2018</td>\n",
       "      <td>400.0</td>\n",
       "    </tr>\n",
       "    <tr>\n",
       "      <th>1</th>\n",
       "      <td>1</td>\n",
       "      <td>2017</td>\n",
       "      <td>500.0</td>\n",
       "    </tr>\n",
       "    <tr>\n",
       "      <th>2</th>\n",
       "      <td>3</td>\n",
       "      <td>2017</td>\n",
       "      <td>840.0</td>\n",
       "    </tr>\n",
       "    <tr>\n",
       "      <th>3</th>\n",
       "      <td>6</td>\n",
       "      <td>2018</td>\n",
       "      <td>728.0</td>\n",
       "    </tr>\n",
       "    <tr>\n",
       "      <th>4</th>\n",
       "      <td>3</td>\n",
       "      <td>2018</td>\n",
       "      <td>600.0</td>\n",
       "    </tr>\n",
       "  </tbody>\n",
       "</table>\n",
       "</div>"
      ],
      "text/plain": [
       "   month(요양개시일자)  year(요양개시일자)  max(Med_days)\n",
       "0              7          2018          400.0\n",
       "1              1          2017          500.0\n",
       "2              3          2017          840.0\n",
       "3              6          2018          728.0\n",
       "4              3          2018          600.0"
      ]
     },
     "execution_count": 366,
     "metadata": {},
     "output_type": "execute_result"
    }
   ],
   "source": [
    "med_month_yr.head()"
   ]
  },
  {
   "cell_type": "markdown",
   "metadata": {},
   "source": [
    "The days of medication does not need simplification because their value is less than thousands. However, column renaming is required"
   ]
  },
  {
   "cell_type": "code",
   "execution_count": 367,
   "metadata": {},
   "outputs": [],
   "source": [
    "med_month.columns=['month','days']\n",
    "med_month_yr.columns=['month','year','days']"
   ]
  },
  {
   "cell_type": "code",
   "execution_count": 368,
   "metadata": {
    "scrolled": true
   },
   "outputs": [
    {
     "data": {
      "text/plain": [
       "Text(0, 0.5, 'Maximum medication days')"
      ]
     },
     "execution_count": 368,
     "metadata": {},
     "output_type": "execute_result"
    },
    {
     "data": {
      "image/png": "[encoded data removed]",
      "text/plain": [
       "<Figure size 1080x432 with 2 Axes>"
      ]
     },
     "metadata": {
      "needs_background": "light"
     },
     "output_type": "display_data"
    }
   ],
   "source": [
    "fig, axes = plt.subplots(1,2,figsize=(15,6))\n",
    "\n",
    "ax1 = med_month.sort_values(by=['month']).set_index('month').plot.bar(ax = axes[0])\n",
    "ax1.set_ylabel(\"Maximum medication days\")\n",
    "\n",
    "ax2 = med_month_yr.groupby(['year','month']).\\\n",
    "                        days.sum().\\\n",
    "                        unstack(0).plot.\\\n",
    "                        bar(ax = axes[1],rot=0, color=['k','g'])\n",
    "ax2.set_ylabel(\"Maximum medication days\")"
   ]
  },
  {
   "cell_type": "markdown",
   "metadata": {},
   "source": [
    "(To be honest, I am surprised about the number of maximum medication days of the medicines)\n",
    "\n",
    "By the month trends, the maximum medication days seems get lower in June-July and December-January in each year."
   ]
  },
  {
   "cell_type": "markdown",
   "metadata": {},
   "source": [
    "#### Gender\n"
   ]
  },
  {
   "cell_type": "code",
   "execution_count": 371,
   "metadata": {},
   "outputs": [],
   "source": [
    "meds_gender,meds_gender_yr =  create_df_per_year_cat(meds_df,['성별코드'],\\\n",
    "                                               F.max,'Med_days','Med_days')"
   ]
  },
  {
   "cell_type": "code",
   "execution_count": 372,
   "metadata": {
    "scrolled": true
   },
   "outputs": [
    {
     "data": {
      "text/html": [
       "<div>\n",
       "<style scoped>\n",
       "    .dataframe tbody tr th:only-of-type {\n",
       "        vertical-align: middle;\n",
       "    }\n",
       "\n",
       "    .dataframe tbody tr th {\n",
       "        vertical-align: top;\n",
       "    }\n",
       "\n",
       "    .dataframe thead th {\n",
       "        text-align: right;\n",
       "    }\n",
       "</style>\n",
       "<table border=\"1\" class=\"dataframe\">\n",
       "  <thead>\n",
       "    <tr style=\"text-align: right;\">\n",
       "      <th></th>\n",
       "      <th>성별코드</th>\n",
       "      <th>max(Med_days)</th>\n",
       "    </tr>\n",
       "  </thead>\n",
       "  <tbody>\n",
       "    <tr>\n",
       "      <th>0</th>\n",
       "      <td>1</td>\n",
       "      <td>840.0</td>\n",
       "    </tr>\n",
       "    <tr>\n",
       "      <th>1</th>\n",
       "      <td>2</td>\n",
       "      <td>840.0</td>\n",
       "    </tr>\n",
       "  </tbody>\n",
       "</table>\n",
       "</div>"
      ],
      "text/plain": [
       "   성별코드  max(Med_days)\n",
       "0     1          840.0\n",
       "1     2          840.0"
      ]
     },
     "execution_count": 372,
     "metadata": {},
     "output_type": "execute_result"
    }
   ],
   "source": [
    "meds_gender"
   ]
  },
  {
   "cell_type": "markdown",
   "metadata": {},
   "source": [
    "From 2017-2018, each gender may not have any difference in maximum medication days. So, let's just skip its visualization"
   ]
  },
  {
   "cell_type": "markdown",
   "metadata": {},
   "source": [
    "I rename the columns to alphabet and decode the gender code"
   ]
  },
  {
   "cell_type": "code",
   "execution_count": 375,
   "metadata": {},
   "outputs": [],
   "source": [
    "meds_gender.columns=['Gender','days']\n",
    "meds_gender = meds_gender.replace({'Gender':gender_code})\n",
    "meds_gender_yr.columns=['Gender','year','days']\n",
    "meds_gender_yr = meds_gender_yr.replace({'Gender':gender_code})\n"
   ]
  },
  {
   "cell_type": "code",
   "execution_count": 382,
   "metadata": {
    "scrolled": false
   },
   "outputs": [
    {
     "data": {
      "text/plain": [
       "Text(0, 0.5, 'Max. medication days')"
      ]
     },
     "execution_count": 382,
     "metadata": {},
     "output_type": "execute_result"
    },
    {
     "data": {
      "image/png": "[encoded data removed]",
      "text/plain": [
       "<Figure size 432x288 with 1 Axes>"
      ]
     },
     "metadata": {
      "needs_background": "light"
     },
     "output_type": "display_data"
    }
   ],
   "source": [
    "ax = meds_gender_yr.groupby(['year','Gender']).\\\n",
    "                        days.sum().\\\n",
    "                        unstack(0).plot.\\\n",
    "                        bar(rot=0, color=['k','g'])\n",
    "ax.set_ylabel(\"Max. medication days\")"
   ]
  },
  {
   "cell_type": "markdown",
   "metadata": {},
   "source": [
    "From the visualization, males tend to have fewer maximum medication days from the females. In 2018, this maximum medication days drops significantly for the males"
   ]
  },
  {
   "cell_type": "markdown",
   "metadata": {},
   "source": [
    "#### Age group"
   ]
  },
  {
   "cell_type": "code",
   "execution_count": 384,
   "metadata": {},
   "outputs": [],
   "source": [
    "meds_age, meds_age_yr = create_df_per_year_cat(meds_df,['연령대코드'],\\\n",
    "                                               F.max,'Med_days','Med_days')"
   ]
  },
  {
   "cell_type": "code",
   "execution_count": 385,
   "metadata": {
    "scrolled": true
   },
   "outputs": [
    {
     "data": {
      "text/html": [
       "<div>\n",
       "<style scoped>\n",
       "    .dataframe tbody tr th:only-of-type {\n",
       "        vertical-align: middle;\n",
       "    }\n",
       "\n",
       "    .dataframe tbody tr th {\n",
       "        vertical-align: top;\n",
       "    }\n",
       "\n",
       "    .dataframe thead th {\n",
       "        text-align: right;\n",
       "    }\n",
       "</style>\n",
       "<table border=\"1\" class=\"dataframe\">\n",
       "  <thead>\n",
       "    <tr style=\"text-align: right;\">\n",
       "      <th></th>\n",
       "      <th>연령대코드</th>\n",
       "      <th>max(Med_days)</th>\n",
       "    </tr>\n",
       "  </thead>\n",
       "  <tbody>\n",
       "    <tr>\n",
       "      <th>0</th>\n",
       "      <td>12</td>\n",
       "      <td>840.0</td>\n",
       "    </tr>\n",
       "    <tr>\n",
       "      <th>1</th>\n",
       "      <td>1</td>\n",
       "      <td>365.0</td>\n",
       "    </tr>\n",
       "    <tr>\n",
       "      <th>2</th>\n",
       "      <td>13</td>\n",
       "      <td>751.0</td>\n",
       "    </tr>\n",
       "    <tr>\n",
       "      <th>3</th>\n",
       "      <td>6</td>\n",
       "      <td>420.0</td>\n",
       "    </tr>\n",
       "    <tr>\n",
       "      <th>4</th>\n",
       "      <td>16</td>\n",
       "      <td>490.0</td>\n",
       "    </tr>\n",
       "  </tbody>\n",
       "</table>\n",
       "</div>"
      ],
      "text/plain": [
       "   연령대코드  max(Med_days)\n",
       "0     12          840.0\n",
       "1      1          365.0\n",
       "2     13          751.0\n",
       "3      6          420.0\n",
       "4     16          490.0"
      ]
     },
     "execution_count": 385,
     "metadata": {},
     "output_type": "execute_result"
    }
   ],
   "source": [
    "meds_age.head()"
   ]
  },
  {
   "cell_type": "code",
   "execution_count": 386,
   "metadata": {
    "scrolled": false
   },
   "outputs": [
    {
     "data": {
      "text/html": [
       "<div>\n",
       "<style scoped>\n",
       "    .dataframe tbody tr th:only-of-type {\n",
       "        vertical-align: middle;\n",
       "    }\n",
       "\n",
       "    .dataframe tbody tr th {\n",
       "        vertical-align: top;\n",
       "    }\n",
       "\n",
       "    .dataframe thead th {\n",
       "        text-align: right;\n",
       "    }\n",
       "</style>\n",
       "<table border=\"1\" class=\"dataframe\">\n",
       "  <thead>\n",
       "    <tr style=\"text-align: right;\">\n",
       "      <th></th>\n",
       "      <th>연령대코드</th>\n",
       "      <th>year(요양개시일자)</th>\n",
       "      <th>max(Med_days)</th>\n",
       "    </tr>\n",
       "  </thead>\n",
       "  <tbody>\n",
       "    <tr>\n",
       "      <th>0</th>\n",
       "      <td>13</td>\n",
       "      <td>2018</td>\n",
       "      <td>420.0</td>\n",
       "    </tr>\n",
       "    <tr>\n",
       "      <th>1</th>\n",
       "      <td>7</td>\n",
       "      <td>2018</td>\n",
       "      <td>400.0</td>\n",
       "    </tr>\n",
       "    <tr>\n",
       "      <th>2</th>\n",
       "      <td>1</td>\n",
       "      <td>2017</td>\n",
       "      <td>210.0</td>\n",
       "    </tr>\n",
       "    <tr>\n",
       "      <th>3</th>\n",
       "      <td>3</td>\n",
       "      <td>2017</td>\n",
       "      <td>360.0</td>\n",
       "    </tr>\n",
       "    <tr>\n",
       "      <th>4</th>\n",
       "      <td>6</td>\n",
       "      <td>2018</td>\n",
       "      <td>400.0</td>\n",
       "    </tr>\n",
       "  </tbody>\n",
       "</table>\n",
       "</div>"
      ],
      "text/plain": [
       "   연령대코드  year(요양개시일자)  max(Med_days)\n",
       "0     13          2018          420.0\n",
       "1      7          2018          400.0\n",
       "2      1          2017          210.0\n",
       "3      3          2017          360.0\n",
       "4      6          2018          400.0"
      ]
     },
     "execution_count": 386,
     "metadata": {},
     "output_type": "execute_result"
    }
   ],
   "source": [
    "meds_age_yr.head()"
   ]
  },
  {
   "cell_type": "markdown",
   "metadata": {},
   "source": [
    "Again, I recode the group values."
   ]
  },
  {
   "cell_type": "code",
   "execution_count": 387,
   "metadata": {},
   "outputs": [],
   "source": [
    "meds_age.columns=['age_group','days']\n",
    "meds_age = meds_age.replace({'age_group':age_code})\n",
    "meds_age_yr.columns=['age_group','year','days']\n",
    "meds_age_yr = meds_age_yr.replace({'age_group':age_code})"
   ]
  },
  {
   "cell_type": "code",
   "execution_count": 388,
   "metadata": {
    "scrolled": false
   },
   "outputs": [
    {
     "data": {
      "image/png": "[encoded data removed]",
      "text/plain": [
       "<Figure size 1080x432 with 2 Axes>"
      ]
     },
     "metadata": {
      "needs_background": "light"
     },
     "output_type": "display_data"
    }
   ],
   "source": [
    "fig, axes = plt.subplots(1,2,figsize=(15,6))\n",
    "\n",
    "ax1 = meds_age.sort_values(by=['age_group']).set_index('age_group').plot.bar(ax = axes[0])\n",
    "\n",
    "ax2 = meds_age_yr.groupby(['year','age_group']).\\\n",
    "                        days.max().\\\n",
    "                        unstack(0).plot.\\\n",
    "                        bar(ax = axes[1], color=['k','g'])"
   ]
  },
  {
   "cell_type": "markdown",
   "metadata": {},
   "source": [
    "From the visualization, people with older ages (50-80s) have more maximum medication days than the other groups.\n",
    "\n",
    "In 2018, the maximum medication days change does not seem have any trend.\n"
   ]
  },
  {
   "cell_type": "markdown",
   "metadata": {},
   "source": [
    "#### Location"
   ]
  },
  {
   "cell_type": "code",
   "execution_count": 389,
   "metadata": {},
   "outputs": [],
   "source": [
    "meds_loc,meds_loc_yr =  create_df_per_year_cat(meds_df,['시도코드'],\\\n",
    "                                               F.max,'Med_days','Med_days')"
   ]
  },
  {
   "cell_type": "code",
   "execution_count": 390,
   "metadata": {
    "scrolled": false
   },
   "outputs": [
    {
     "data": {
      "text/html": [
       "<div>\n",
       "<style scoped>\n",
       "    .dataframe tbody tr th:only-of-type {\n",
       "        vertical-align: middle;\n",
       "    }\n",
       "\n",
       "    .dataframe tbody tr th {\n",
       "        vertical-align: top;\n",
       "    }\n",
       "\n",
       "    .dataframe thead th {\n",
       "        text-align: right;\n",
       "    }\n",
       "</style>\n",
       "<table border=\"1\" class=\"dataframe\">\n",
       "  <thead>\n",
       "    <tr style=\"text-align: right;\">\n",
       "      <th></th>\n",
       "      <th>시도코드</th>\n",
       "      <th>max(Med_days)</th>\n",
       "    </tr>\n",
       "  </thead>\n",
       "  <tbody>\n",
       "    <tr>\n",
       "      <th>0</th>\n",
       "      <td>11</td>\n",
       "      <td>840.0</td>\n",
       "    </tr>\n",
       "    <tr>\n",
       "      <th>1</th>\n",
       "      <td>29</td>\n",
       "      <td>400.0</td>\n",
       "    </tr>\n",
       "    <tr>\n",
       "      <th>2</th>\n",
       "      <td>42</td>\n",
       "      <td>400.0</td>\n",
       "    </tr>\n",
       "    <tr>\n",
       "      <th>3</th>\n",
       "      <td>30</td>\n",
       "      <td>400.0</td>\n",
       "    </tr>\n",
       "    <tr>\n",
       "      <th>4</th>\n",
       "      <td>28</td>\n",
       "      <td>819.0</td>\n",
       "    </tr>\n",
       "  </tbody>\n",
       "</table>\n",
       "</div>"
      ],
      "text/plain": [
       "  시도코드  max(Med_days)\n",
       "0   11          840.0\n",
       "1   29          400.0\n",
       "2   42          400.0\n",
       "3   30          400.0\n",
       "4   28          819.0"
      ]
     },
     "execution_count": 390,
     "metadata": {},
     "output_type": "execute_result"
    }
   ],
   "source": [
    "meds_loc.head()"
   ]
  },
  {
   "cell_type": "code",
   "execution_count": 391,
   "metadata": {},
   "outputs": [
    {
     "data": {
      "text/html": [
       "<div>\n",
       "<style scoped>\n",
       "    .dataframe tbody tr th:only-of-type {\n",
       "        vertical-align: middle;\n",
       "    }\n",
       "\n",
       "    .dataframe tbody tr th {\n",
       "        vertical-align: top;\n",
       "    }\n",
       "\n",
       "    .dataframe thead th {\n",
       "        text-align: right;\n",
       "    }\n",
       "</style>\n",
       "<table border=\"1\" class=\"dataframe\">\n",
       "  <thead>\n",
       "    <tr style=\"text-align: right;\">\n",
       "      <th></th>\n",
       "      <th>시도코드</th>\n",
       "      <th>max(Med_days)</th>\n",
       "    </tr>\n",
       "  </thead>\n",
       "  <tbody>\n",
       "    <tr>\n",
       "      <th>0</th>\n",
       "      <td>11</td>\n",
       "      <td>840.0</td>\n",
       "    </tr>\n",
       "    <tr>\n",
       "      <th>1</th>\n",
       "      <td>29</td>\n",
       "      <td>400.0</td>\n",
       "    </tr>\n",
       "    <tr>\n",
       "      <th>2</th>\n",
       "      <td>42</td>\n",
       "      <td>400.0</td>\n",
       "    </tr>\n",
       "    <tr>\n",
       "      <th>3</th>\n",
       "      <td>30</td>\n",
       "      <td>400.0</td>\n",
       "    </tr>\n",
       "    <tr>\n",
       "      <th>4</th>\n",
       "      <td>28</td>\n",
       "      <td>819.0</td>\n",
       "    </tr>\n",
       "  </tbody>\n",
       "</table>\n",
       "</div>"
      ],
      "text/plain": [
       "  시도코드  max(Med_days)\n",
       "0   11          840.0\n",
       "1   29          400.0\n",
       "2   42          400.0\n",
       "3   30          400.0\n",
       "4   28          819.0"
      ]
     },
     "execution_count": 391,
     "metadata": {},
     "output_type": "execute_result"
    }
   ],
   "source": [
    "meds_loc.head()"
   ]
  },
  {
   "cell_type": "markdown",
   "metadata": {},
   "source": [
    "Again,  recode the group values."
   ]
  },
  {
   "cell_type": "code",
   "execution_count": 392,
   "metadata": {},
   "outputs": [],
   "source": [
    "meds_loc.columns=['location','days']\n",
    "meds_loc = meds_loc.replace({'location':city_code})\n",
    "meds_loc_yr.columns=['location','year','days']\n",
    "meds_loc_yr = meds_loc_yr.replace({'location':city_code})"
   ]
  },
  {
   "cell_type": "code",
   "execution_count": 400,
   "metadata": {
    "scrolled": true
   },
   "outputs": [
    {
     "data": {
      "text/plain": [
       "<matplotlib.axes._subplots.AxesSubplot at 0x7fb3075166d0>"
      ]
     },
     "execution_count": 400,
     "metadata": {},
     "output_type": "execute_result"
    },
    {
     "data": {
      "image/png": "[encoded data removed]",
      "text/plain": [
       "<Figure size 1080x360 with 1 Axes>"
      ]
     },
     "metadata": {
      "needs_background": "light"
     },
     "output_type": "display_data"
    }
   ],
   "source": [
    "meds_loc_yr.groupby(['year','location']).\\\n",
    "                        days.max().\\\n",
    "                        unstack(0).plot.\\\n",
    "                        bar(color=['k','g'],figsize=(15,5))"
   ]
  },
  {
   "cell_type": "markdown",
   "metadata": {},
   "source": [
    "From the visualization,  we see that Incheon and Seoul hold the longest medication days. \n",
    "\n",
    "Most of the regions has no trend change of maximum medication days. However, I will display the number of the change in the table below."
   ]
  },
  {
   "cell_type": "code",
   "execution_count": 402,
   "metadata": {},
   "outputs": [
    {
     "data": {
      "text/plain": [
       "location\n",
       "Busan                -90.0\n",
       "Chungcheongbuk-do   -351.0\n",
       "Chungcheongnam-do      0.0\n",
       "Daegu                -22.0\n",
       "Daejeon                0.0\n",
       "Gangwon-do           -20.0\n",
       "Gwangju               25.0\n",
       "Gyeongggi-do         -28.0\n",
       "Gyeongsangbuk-do      30.0\n",
       "Gyeongsangnam-do    -100.0\n",
       "Incheon              444.0\n",
       "Jeju                -150.0\n",
       "Jeollabuk-do         150.0\n",
       "Jeollanam-do        -161.0\n",
       "Sejong                 0.0\n",
       "Seoul               -112.0\n",
       "Ulsan                  0.0\n",
       "dtype: float64"
      ]
     },
     "execution_count": 402,
     "metadata": {},
     "output_type": "execute_result"
    }
   ],
   "source": [
    "meds_loc_yr_unstacked = meds_loc_yr.groupby(['year','location']).\\\n",
    "                        days.max().\\\n",
    "                        unstack(0)\n",
    "meds_loc_yr_unstacked[2018] -meds_loc_yr_unstacked[2017]"
   ]
  },
  {
   "cell_type": "code",
   "execution_count": null,
   "metadata": {},
   "outputs": [],
   "source": []
  }
 ],
 "metadata": {
  "kernelspec": {
   "display_name": "Python 3",
   "language": "python",
   "name": "python3"
  },
  "language_info": {
   "codemirror_mode": {
    "name": "ipython",
    "version": 3
   },
   "file_extension": ".py",
   "mimetype": "text/x-python",
   "name": "python",
   "nbconvert_exporter": "python",
   "pygments_lexer": "ipython3",
   "version": "3.7.7"
  }
 },
 "nbformat": 4,
 "nbformat_minor": 2
}
